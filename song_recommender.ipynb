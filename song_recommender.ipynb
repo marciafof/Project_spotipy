{
 "cells": [
  {
   "cell_type": "code",
   "execution_count": 2,
   "id": "4173c370",
   "metadata": {},
   "outputs": [],
   "source": [
    "import config\n",
    "import spotipy\n",
    "import json\n",
    "from spotipy.oauth2 import SpotifyClientCredentials\n",
    "import numpy as np\n",
    "import pandas as pd\n",
    "import pickle\n",
    "from sklearn import datasets # sklearn comes with some toy datasets to practise\n",
    "from sklearn.preprocessing import StandardScaler\n",
    "from sklearn.cluster import KMeans\n",
    "from matplotlib import pyplot\n",
    "from sklearn.metrics import silhouette_score\n",
    "import random\n",
    "import seaborn as sns\n",
    "\n",
    "#Initialize SpotiPy with user credentias\n",
    "sp = spotipy.Spotify(auth_manager=SpotifyClientCredentials(client_id= config.client_id,\n",
    "                                                           client_secret= config.client_secret))"
   ]
  },
  {
   "cell_type": "code",
   "execution_count": 19,
   "id": "281c9e16",
   "metadata": {},
   "outputs": [
    {
     "data": {
      "text/html": [
       "<div>\n",
       "<style scoped>\n",
       "    .dataframe tbody tr th:only-of-type {\n",
       "        vertical-align: middle;\n",
       "    }\n",
       "\n",
       "    .dataframe tbody tr th {\n",
       "        vertical-align: top;\n",
       "    }\n",
       "\n",
       "    .dataframe thead th {\n",
       "        text-align: right;\n",
       "    }\n",
       "</style>\n",
       "<table border=\"1\" class=\"dataframe\">\n",
       "  <thead>\n",
       "    <tr style=\"text-align: right;\">\n",
       "      <th></th>\n",
       "      <th>danceability</th>\n",
       "      <th>energy</th>\n",
       "      <th>loudness</th>\n",
       "      <th>speechiness</th>\n",
       "      <th>acousticness</th>\n",
       "      <th>instrumentalness</th>\n",
       "      <th>liveness</th>\n",
       "      <th>valence</th>\n",
       "      <th>tempo</th>\n",
       "      <th>duration_ms</th>\n",
       "    </tr>\n",
       "  </thead>\n",
       "  <tbody>\n",
       "    <tr>\n",
       "      <th>count</th>\n",
       "      <td>73363.000000</td>\n",
       "      <td>73363.000000</td>\n",
       "      <td>73363.000000</td>\n",
       "      <td>73363.000000</td>\n",
       "      <td>73363.000000</td>\n",
       "      <td>73363.000000</td>\n",
       "      <td>73363.000000</td>\n",
       "      <td>73363.000000</td>\n",
       "      <td>73363.000000</td>\n",
       "      <td>7.336300e+04</td>\n",
       "    </tr>\n",
       "    <tr>\n",
       "      <th>mean</th>\n",
       "      <td>0.571666</td>\n",
       "      <td>0.585020</td>\n",
       "      <td>-9.606646</td>\n",
       "      <td>0.084714</td>\n",
       "      <td>0.337416</td>\n",
       "      <td>0.181970</td>\n",
       "      <td>0.184051</td>\n",
       "      <td>0.474739</td>\n",
       "      <td>119.519258</td>\n",
       "      <td>2.299611e+05</td>\n",
       "    </tr>\n",
       "    <tr>\n",
       "      <th>std</th>\n",
       "      <td>0.185722</td>\n",
       "      <td>0.268684</td>\n",
       "      <td>6.761314</td>\n",
       "      <td>0.091120</td>\n",
       "      <td>0.344895</td>\n",
       "      <td>0.336221</td>\n",
       "      <td>0.155988</td>\n",
       "      <td>0.259037</td>\n",
       "      <td>30.233595</td>\n",
       "      <td>1.622000e+05</td>\n",
       "    </tr>\n",
       "    <tr>\n",
       "      <th>min</th>\n",
       "      <td>0.000000</td>\n",
       "      <td>0.000000</td>\n",
       "      <td>-53.436000</td>\n",
       "      <td>0.000000</td>\n",
       "      <td>0.000000</td>\n",
       "      <td>0.000000</td>\n",
       "      <td>0.000000</td>\n",
       "      <td>0.000000</td>\n",
       "      <td>0.000000</td>\n",
       "      <td>7.229000e+03</td>\n",
       "    </tr>\n",
       "    <tr>\n",
       "      <th>25%</th>\n",
       "      <td>0.459000</td>\n",
       "      <td>0.408000</td>\n",
       "      <td>-11.225000</td>\n",
       "      <td>0.036100</td>\n",
       "      <td>0.028100</td>\n",
       "      <td>0.000000</td>\n",
       "      <td>0.095800</td>\n",
       "      <td>0.265000</td>\n",
       "      <td>95.990000</td>\n",
       "      <td>1.773700e+05</td>\n",
       "    </tr>\n",
       "    <tr>\n",
       "      <th>50%</th>\n",
       "      <td>0.590000</td>\n",
       "      <td>0.629000</td>\n",
       "      <td>-7.521000</td>\n",
       "      <td>0.048700</td>\n",
       "      <td>0.194000</td>\n",
       "      <td>0.000090</td>\n",
       "      <td>0.119000</td>\n",
       "      <td>0.472000</td>\n",
       "      <td>119.924000</td>\n",
       "      <td>2.121220e+05</td>\n",
       "    </tr>\n",
       "    <tr>\n",
       "      <th>75%</th>\n",
       "      <td>0.708000</td>\n",
       "      <td>0.803000</td>\n",
       "      <td>-5.353500</td>\n",
       "      <td>0.087900</td>\n",
       "      <td>0.632000</td>\n",
       "      <td>0.102000</td>\n",
       "      <td>0.220000</td>\n",
       "      <td>0.681000</td>\n",
       "      <td>139.284500</td>\n",
       "      <td>2.524130e+05</td>\n",
       "    </tr>\n",
       "    <tr>\n",
       "      <th>max</th>\n",
       "      <td>0.987000</td>\n",
       "      <td>1.000000</td>\n",
       "      <td>1.358000</td>\n",
       "      <td>0.961000</td>\n",
       "      <td>0.996000</td>\n",
       "      <td>1.000000</td>\n",
       "      <td>0.995000</td>\n",
       "      <td>0.999000</td>\n",
       "      <td>240.107000</td>\n",
       "      <td>6.000661e+06</td>\n",
       "    </tr>\n",
       "  </tbody>\n",
       "</table>\n",
       "</div>"
      ],
      "text/plain": [
       "       danceability        energy      loudness   speechiness  acousticness  \\\n",
       "count  73363.000000  73363.000000  73363.000000  73363.000000  73363.000000   \n",
       "mean       0.571666      0.585020     -9.606646      0.084714      0.337416   \n",
       "std        0.185722      0.268684      6.761314      0.091120      0.344895   \n",
       "min        0.000000      0.000000    -53.436000      0.000000      0.000000   \n",
       "25%        0.459000      0.408000    -11.225000      0.036100      0.028100   \n",
       "50%        0.590000      0.629000     -7.521000      0.048700      0.194000   \n",
       "75%        0.708000      0.803000     -5.353500      0.087900      0.632000   \n",
       "max        0.987000      1.000000      1.358000      0.961000      0.996000   \n",
       "\n",
       "       instrumentalness      liveness       valence         tempo  \\\n",
       "count      73363.000000  73363.000000  73363.000000  73363.000000   \n",
       "mean           0.181970      0.184051      0.474739    119.519258   \n",
       "std            0.336221      0.155988      0.259037     30.233595   \n",
       "min            0.000000      0.000000      0.000000      0.000000   \n",
       "25%            0.000000      0.095800      0.265000     95.990000   \n",
       "50%            0.000090      0.119000      0.472000    119.924000   \n",
       "75%            0.102000      0.220000      0.681000    139.284500   \n",
       "max            1.000000      0.995000      0.999000    240.107000   \n",
       "\n",
       "        duration_ms  \n",
       "count  7.336300e+04  \n",
       "mean   2.299611e+05  \n",
       "std    1.622000e+05  \n",
       "min    7.229000e+03  \n",
       "25%    1.773700e+05  \n",
       "50%    2.121220e+05  \n",
       "75%    2.524130e+05  \n",
       "max    6.000661e+06  "
      ]
     },
     "execution_count": 19,
     "metadata": {},
     "output_type": "execute_result"
    }
   ],
   "source": [
    "df = pd.read_csv(\"songs_byplaylist_bygenres.csv\")\n",
    "df.describe()"
   ]
  },
  {
   "cell_type": "code",
   "execution_count": 4,
   "id": "d4d4087d",
   "metadata": {},
   "outputs": [
    {
     "name": "stdout",
     "output_type": "stream",
     "text": [
      "<class 'pandas.core.frame.DataFrame'>\n",
      "RangeIndex: 73365 entries, 0 to 73364\n",
      "Data columns (total 11 columns):\n",
      " #   Column            Non-Null Count  Dtype  \n",
      "---  ------            --------------  -----  \n",
      " 0   danceability      73363 non-null  float64\n",
      " 1   energy            73363 non-null  float64\n",
      " 2   loudness          73363 non-null  float64\n",
      " 3   speechiness       73363 non-null  float64\n",
      " 4   acousticness      73363 non-null  float64\n",
      " 5   instrumentalness  73363 non-null  float64\n",
      " 6   liveness          73363 non-null  float64\n",
      " 7   valence           73363 non-null  float64\n",
      " 8   tempo             73363 non-null  float64\n",
      " 9   id                73363 non-null  object \n",
      " 10  duration_ms       73363 non-null  float64\n",
      "dtypes: float64(10), object(1)\n",
      "memory usage: 6.2+ MB\n"
     ]
    }
   ],
   "source": [
    "df.info()"
   ]
  },
  {
   "cell_type": "markdown",
   "id": "8bbd5ff6",
   "metadata": {},
   "source": [
    "##### decision we made regarding the columns to keep or not in the dataset"
   ]
  },
  {
   "cell_type": "markdown",
   "id": "dc2cc9de",
   "metadata": {},
   "source": [
    "- In previous analysis we noticed that the duration_ms seem to be defining an entire cluster by itself. The previous models were'nt working well so we decided to get rid of this column\n"
   ]
  },
  {
   "cell_type": "code",
   "execution_count": 20,
   "id": "e15173dd",
   "metadata": {},
   "outputs": [
    {
     "data": {
      "text/html": [
       "<div>\n",
       "<style scoped>\n",
       "    .dataframe tbody tr th:only-of-type {\n",
       "        vertical-align: middle;\n",
       "    }\n",
       "\n",
       "    .dataframe tbody tr th {\n",
       "        vertical-align: top;\n",
       "    }\n",
       "\n",
       "    .dataframe thead th {\n",
       "        text-align: right;\n",
       "    }\n",
       "</style>\n",
       "<table border=\"1\" class=\"dataframe\">\n",
       "  <thead>\n",
       "    <tr style=\"text-align: right;\">\n",
       "      <th></th>\n",
       "      <th>danceability</th>\n",
       "      <th>energy</th>\n",
       "      <th>loudness</th>\n",
       "      <th>speechiness</th>\n",
       "      <th>acousticness</th>\n",
       "      <th>instrumentalness</th>\n",
       "      <th>liveness</th>\n",
       "      <th>valence</th>\n",
       "      <th>tempo</th>\n",
       "      <th>id</th>\n",
       "    </tr>\n",
       "  </thead>\n",
       "  <tbody>\n",
       "    <tr>\n",
       "      <th>0</th>\n",
       "      <td>0.585</td>\n",
       "      <td>0.239</td>\n",
       "      <td>-15.167</td>\n",
       "      <td>0.0309</td>\n",
       "      <td>0.697</td>\n",
       "      <td>0.001330</td>\n",
       "      <td>0.159</td>\n",
       "      <td>0.0933</td>\n",
       "      <td>101.182</td>\n",
       "      <td>5CQHTuNbYlEA4fZdxQ4PMi</td>\n",
       "    </tr>\n",
       "    <tr>\n",
       "      <th>1</th>\n",
       "      <td>0.463</td>\n",
       "      <td>0.368</td>\n",
       "      <td>-11.546</td>\n",
       "      <td>0.0480</td>\n",
       "      <td>0.376</td>\n",
       "      <td>0.000000</td>\n",
       "      <td>0.149</td>\n",
       "      <td>0.7500</td>\n",
       "      <td>141.974</td>\n",
       "      <td>3LHg768dEKqJKht2uPTlVR</td>\n",
       "    </tr>\n",
       "    <tr>\n",
       "      <th>2</th>\n",
       "      <td>0.561</td>\n",
       "      <td>0.327</td>\n",
       "      <td>-10.835</td>\n",
       "      <td>0.0327</td>\n",
       "      <td>0.902</td>\n",
       "      <td>0.000469</td>\n",
       "      <td>0.111</td>\n",
       "      <td>0.2980</td>\n",
       "      <td>161.858</td>\n",
       "      <td>3bHhUEOTIbezeZ856R0BX5</td>\n",
       "    </tr>\n",
       "    <tr>\n",
       "      <th>3</th>\n",
       "      <td>0.481</td>\n",
       "      <td>0.638</td>\n",
       "      <td>-5.862</td>\n",
       "      <td>0.0276</td>\n",
       "      <td>0.153</td>\n",
       "      <td>0.000000</td>\n",
       "      <td>0.154</td>\n",
       "      <td>0.4970</td>\n",
       "      <td>79.064</td>\n",
       "      <td>2hKdd3qO7cWr2Jo0Bcs0MA</td>\n",
       "    </tr>\n",
       "    <tr>\n",
       "      <th>4</th>\n",
       "      <td>0.643</td>\n",
       "      <td>0.495</td>\n",
       "      <td>-10.176</td>\n",
       "      <td>0.0292</td>\n",
       "      <td>0.421</td>\n",
       "      <td>0.001230</td>\n",
       "      <td>0.082</td>\n",
       "      <td>0.3190</td>\n",
       "      <td>127.219</td>\n",
       "      <td>615auKcis6sGDrHk6UTeog</td>\n",
       "    </tr>\n",
       "  </tbody>\n",
       "</table>\n",
       "</div>"
      ],
      "text/plain": [
       "   danceability  energy  loudness  speechiness  acousticness  \\\n",
       "0         0.585   0.239   -15.167       0.0309         0.697   \n",
       "1         0.463   0.368   -11.546       0.0480         0.376   \n",
       "2         0.561   0.327   -10.835       0.0327         0.902   \n",
       "3         0.481   0.638    -5.862       0.0276         0.153   \n",
       "4         0.643   0.495   -10.176       0.0292         0.421   \n",
       "\n",
       "   instrumentalness  liveness  valence    tempo                      id  \n",
       "0          0.001330     0.159   0.0933  101.182  5CQHTuNbYlEA4fZdxQ4PMi  \n",
       "1          0.000000     0.149   0.7500  141.974  3LHg768dEKqJKht2uPTlVR  \n",
       "2          0.000469     0.111   0.2980  161.858  3bHhUEOTIbezeZ856R0BX5  \n",
       "3          0.000000     0.154   0.4970   79.064  2hKdd3qO7cWr2Jo0Bcs0MA  \n",
       "4          0.001230     0.082   0.3190  127.219  615auKcis6sGDrHk6UTeog  "
      ]
     },
     "execution_count": 20,
     "metadata": {},
     "output_type": "execute_result"
    }
   ],
   "source": [
    "df = df.drop('duration_ms', axis=1)\n",
    "df.head()"
   ]
  },
  {
   "cell_type": "markdown",
   "id": "4a8401dc",
   "metadata": {},
   "source": [
    "##### None values are not allowed in the dataset for the elbow analysis so we need to drop them"
   ]
  },
  {
   "cell_type": "code",
   "execution_count": 21,
   "id": "fa8145af",
   "metadata": {},
   "outputs": [],
   "source": [
    "# drop null values rows\n",
    "df.dropna(axis = 0, inplace = True)"
   ]
  },
  {
   "cell_type": "markdown",
   "id": "c29b5c90",
   "metadata": {},
   "source": [
    "##### Duplicates of same songs could affect the mean calculated to establish the clusters"
   ]
  },
  {
   "cell_type": "code",
   "execution_count": 22,
   "id": "1db4f685",
   "metadata": {},
   "outputs": [
    {
     "name": "stdout",
     "output_type": "stream",
     "text": [
      "Number of duplicate records dropped:  0\n"
     ]
    }
   ],
   "source": [
    "#check for duplicates\n",
    "before = len(df)\n",
    "data = df.drop_duplicates()\n",
    "after = len(df)\n",
    "print('Number of duplicate records dropped: ', str(before - after))"
   ]
  },
  {
   "cell_type": "code",
   "execution_count": 10,
   "id": "cdb52020",
   "metadata": {},
   "outputs": [],
   "source": [
    "#we just realised that we can't filter out the duplicates because songs with same artist and title could have different ids if they are in different playlists! \n",
    "# we sould have used this to select the real duplicates before extracting the data\n",
    "# duplicates_names_artist = df[df.duplicated(['name', 'artists'])]"
   ]
  },
  {
   "cell_type": "code",
   "execution_count": 23,
   "id": "e7d1b964",
   "metadata": {},
   "outputs": [
    {
     "data": {
      "text/html": [
       "<div>\n",
       "<style scoped>\n",
       "    .dataframe tbody tr th:only-of-type {\n",
       "        vertical-align: middle;\n",
       "    }\n",
       "\n",
       "    .dataframe tbody tr th {\n",
       "        vertical-align: top;\n",
       "    }\n",
       "\n",
       "    .dataframe thead th {\n",
       "        text-align: right;\n",
       "    }\n",
       "</style>\n",
       "<table border=\"1\" class=\"dataframe\">\n",
       "  <thead>\n",
       "    <tr style=\"text-align: right;\">\n",
       "      <th></th>\n",
       "      <th>danceability</th>\n",
       "      <th>energy</th>\n",
       "      <th>loudness</th>\n",
       "      <th>speechiness</th>\n",
       "      <th>acousticness</th>\n",
       "      <th>instrumentalness</th>\n",
       "      <th>liveness</th>\n",
       "      <th>valence</th>\n",
       "      <th>tempo</th>\n",
       "    </tr>\n",
       "    <tr>\n",
       "      <th>id</th>\n",
       "      <th></th>\n",
       "      <th></th>\n",
       "      <th></th>\n",
       "      <th></th>\n",
       "      <th></th>\n",
       "      <th></th>\n",
       "      <th></th>\n",
       "      <th></th>\n",
       "      <th></th>\n",
       "    </tr>\n",
       "  </thead>\n",
       "  <tbody>\n",
       "    <tr>\n",
       "      <th>5CQHTuNbYlEA4fZdxQ4PMi</th>\n",
       "      <td>0.585</td>\n",
       "      <td>0.239</td>\n",
       "      <td>-15.167</td>\n",
       "      <td>0.0309</td>\n",
       "      <td>0.697</td>\n",
       "      <td>0.001330</td>\n",
       "      <td>0.159</td>\n",
       "      <td>0.0933</td>\n",
       "      <td>101.182</td>\n",
       "    </tr>\n",
       "    <tr>\n",
       "      <th>3LHg768dEKqJKht2uPTlVR</th>\n",
       "      <td>0.463</td>\n",
       "      <td>0.368</td>\n",
       "      <td>-11.546</td>\n",
       "      <td>0.0480</td>\n",
       "      <td>0.376</td>\n",
       "      <td>0.000000</td>\n",
       "      <td>0.149</td>\n",
       "      <td>0.7500</td>\n",
       "      <td>141.974</td>\n",
       "    </tr>\n",
       "    <tr>\n",
       "      <th>3bHhUEOTIbezeZ856R0BX5</th>\n",
       "      <td>0.561</td>\n",
       "      <td>0.327</td>\n",
       "      <td>-10.835</td>\n",
       "      <td>0.0327</td>\n",
       "      <td>0.902</td>\n",
       "      <td>0.000469</td>\n",
       "      <td>0.111</td>\n",
       "      <td>0.2980</td>\n",
       "      <td>161.858</td>\n",
       "    </tr>\n",
       "    <tr>\n",
       "      <th>2hKdd3qO7cWr2Jo0Bcs0MA</th>\n",
       "      <td>0.481</td>\n",
       "      <td>0.638</td>\n",
       "      <td>-5.862</td>\n",
       "      <td>0.0276</td>\n",
       "      <td>0.153</td>\n",
       "      <td>0.000000</td>\n",
       "      <td>0.154</td>\n",
       "      <td>0.4970</td>\n",
       "      <td>79.064</td>\n",
       "    </tr>\n",
       "    <tr>\n",
       "      <th>615auKcis6sGDrHk6UTeog</th>\n",
       "      <td>0.643</td>\n",
       "      <td>0.495</td>\n",
       "      <td>-10.176</td>\n",
       "      <td>0.0292</td>\n",
       "      <td>0.421</td>\n",
       "      <td>0.001230</td>\n",
       "      <td>0.082</td>\n",
       "      <td>0.3190</td>\n",
       "      <td>127.219</td>\n",
       "    </tr>\n",
       "  </tbody>\n",
       "</table>\n",
       "</div>"
      ],
      "text/plain": [
       "                        danceability  energy  loudness  speechiness  \\\n",
       "id                                                                    \n",
       "5CQHTuNbYlEA4fZdxQ4PMi         0.585   0.239   -15.167       0.0309   \n",
       "3LHg768dEKqJKht2uPTlVR         0.463   0.368   -11.546       0.0480   \n",
       "3bHhUEOTIbezeZ856R0BX5         0.561   0.327   -10.835       0.0327   \n",
       "2hKdd3qO7cWr2Jo0Bcs0MA         0.481   0.638    -5.862       0.0276   \n",
       "615auKcis6sGDrHk6UTeog         0.643   0.495   -10.176       0.0292   \n",
       "\n",
       "                        acousticness  instrumentalness  liveness  valence  \\\n",
       "id                                                                          \n",
       "5CQHTuNbYlEA4fZdxQ4PMi         0.697          0.001330     0.159   0.0933   \n",
       "3LHg768dEKqJKht2uPTlVR         0.376          0.000000     0.149   0.7500   \n",
       "3bHhUEOTIbezeZ856R0BX5         0.902          0.000469     0.111   0.2980   \n",
       "2hKdd3qO7cWr2Jo0Bcs0MA         0.153          0.000000     0.154   0.4970   \n",
       "615auKcis6sGDrHk6UTeog         0.421          0.001230     0.082   0.3190   \n",
       "\n",
       "                          tempo  \n",
       "id                               \n",
       "5CQHTuNbYlEA4fZdxQ4PMi  101.182  \n",
       "3LHg768dEKqJKht2uPTlVR  141.974  \n",
       "3bHhUEOTIbezeZ856R0BX5  161.858  \n",
       "2hKdd3qO7cWr2Jo0Bcs0MA   79.064  \n",
       "615auKcis6sGDrHk6UTeog  127.219  "
      ]
     },
     "execution_count": 23,
     "metadata": {},
     "output_type": "execute_result"
    }
   ],
   "source": [
    "df.set_index('id', inplace=True)\n",
    "df.head()"
   ]
  },
  {
   "cell_type": "code",
   "execution_count": 24,
   "id": "38540caf",
   "metadata": {},
   "outputs": [
    {
     "data": {
      "text/html": [
       "<div>\n",
       "<style scoped>\n",
       "    .dataframe tbody tr th:only-of-type {\n",
       "        vertical-align: middle;\n",
       "    }\n",
       "\n",
       "    .dataframe tbody tr th {\n",
       "        vertical-align: top;\n",
       "    }\n",
       "\n",
       "    .dataframe thead th {\n",
       "        text-align: right;\n",
       "    }\n",
       "</style>\n",
       "<table border=\"1\" class=\"dataframe\">\n",
       "  <thead>\n",
       "    <tr style=\"text-align: right;\">\n",
       "      <th></th>\n",
       "      <th>danceability</th>\n",
       "      <th>energy</th>\n",
       "      <th>loudness</th>\n",
       "      <th>speechiness</th>\n",
       "      <th>acousticness</th>\n",
       "      <th>instrumentalness</th>\n",
       "      <th>liveness</th>\n",
       "      <th>valence</th>\n",
       "      <th>tempo</th>\n",
       "    </tr>\n",
       "    <tr>\n",
       "      <th>id</th>\n",
       "      <th></th>\n",
       "      <th></th>\n",
       "      <th></th>\n",
       "      <th></th>\n",
       "      <th></th>\n",
       "      <th></th>\n",
       "      <th></th>\n",
       "      <th></th>\n",
       "      <th></th>\n",
       "    </tr>\n",
       "  </thead>\n",
       "  <tbody>\n",
       "    <tr>\n",
       "      <th>5CQHTuNbYlEA4fZdxQ4PMi</th>\n",
       "      <td>0.585</td>\n",
       "      <td>0.239</td>\n",
       "      <td>-15.167</td>\n",
       "      <td>0.0309</td>\n",
       "      <td>0.697</td>\n",
       "      <td>0.001330</td>\n",
       "      <td>0.159</td>\n",
       "      <td>0.0933</td>\n",
       "      <td>101.182</td>\n",
       "    </tr>\n",
       "    <tr>\n",
       "      <th>3LHg768dEKqJKht2uPTlVR</th>\n",
       "      <td>0.463</td>\n",
       "      <td>0.368</td>\n",
       "      <td>-11.546</td>\n",
       "      <td>0.0480</td>\n",
       "      <td>0.376</td>\n",
       "      <td>0.000000</td>\n",
       "      <td>0.149</td>\n",
       "      <td>0.7500</td>\n",
       "      <td>141.974</td>\n",
       "    </tr>\n",
       "    <tr>\n",
       "      <th>3bHhUEOTIbezeZ856R0BX5</th>\n",
       "      <td>0.561</td>\n",
       "      <td>0.327</td>\n",
       "      <td>-10.835</td>\n",
       "      <td>0.0327</td>\n",
       "      <td>0.902</td>\n",
       "      <td>0.000469</td>\n",
       "      <td>0.111</td>\n",
       "      <td>0.2980</td>\n",
       "      <td>161.858</td>\n",
       "    </tr>\n",
       "    <tr>\n",
       "      <th>2hKdd3qO7cWr2Jo0Bcs0MA</th>\n",
       "      <td>0.481</td>\n",
       "      <td>0.638</td>\n",
       "      <td>-5.862</td>\n",
       "      <td>0.0276</td>\n",
       "      <td>0.153</td>\n",
       "      <td>0.000000</td>\n",
       "      <td>0.154</td>\n",
       "      <td>0.4970</td>\n",
       "      <td>79.064</td>\n",
       "    </tr>\n",
       "    <tr>\n",
       "      <th>615auKcis6sGDrHk6UTeog</th>\n",
       "      <td>0.643</td>\n",
       "      <td>0.495</td>\n",
       "      <td>-10.176</td>\n",
       "      <td>0.0292</td>\n",
       "      <td>0.421</td>\n",
       "      <td>0.001230</td>\n",
       "      <td>0.082</td>\n",
       "      <td>0.3190</td>\n",
       "      <td>127.219</td>\n",
       "    </tr>\n",
       "  </tbody>\n",
       "</table>\n",
       "</div>"
      ],
      "text/plain": [
       "                        danceability  energy  loudness  speechiness  \\\n",
       "id                                                                    \n",
       "5CQHTuNbYlEA4fZdxQ4PMi         0.585   0.239   -15.167       0.0309   \n",
       "3LHg768dEKqJKht2uPTlVR         0.463   0.368   -11.546       0.0480   \n",
       "3bHhUEOTIbezeZ856R0BX5         0.561   0.327   -10.835       0.0327   \n",
       "2hKdd3qO7cWr2Jo0Bcs0MA         0.481   0.638    -5.862       0.0276   \n",
       "615auKcis6sGDrHk6UTeog         0.643   0.495   -10.176       0.0292   \n",
       "\n",
       "                        acousticness  instrumentalness  liveness  valence  \\\n",
       "id                                                                          \n",
       "5CQHTuNbYlEA4fZdxQ4PMi         0.697          0.001330     0.159   0.0933   \n",
       "3LHg768dEKqJKht2uPTlVR         0.376          0.000000     0.149   0.7500   \n",
       "3bHhUEOTIbezeZ856R0BX5         0.902          0.000469     0.111   0.2980   \n",
       "2hKdd3qO7cWr2Jo0Bcs0MA         0.153          0.000000     0.154   0.4970   \n",
       "615auKcis6sGDrHk6UTeog         0.421          0.001230     0.082   0.3190   \n",
       "\n",
       "                          tempo  \n",
       "id                               \n",
       "5CQHTuNbYlEA4fZdxQ4PMi  101.182  \n",
       "3LHg768dEKqJKht2uPTlVR  141.974  \n",
       "3bHhUEOTIbezeZ856R0BX5  161.858  \n",
       "2hKdd3qO7cWr2Jo0Bcs0MA   79.064  \n",
       "615auKcis6sGDrHk6UTeog  127.219  "
      ]
     },
     "metadata": {},
     "output_type": "display_data"
    },
    {
     "name": "stdout",
     "output_type": "stream",
     "text": [
      "\n"
     ]
    },
    {
     "data": {
      "text/html": [
       "<div>\n",
       "<style scoped>\n",
       "    .dataframe tbody tr th:only-of-type {\n",
       "        vertical-align: middle;\n",
       "    }\n",
       "\n",
       "    .dataframe tbody tr th {\n",
       "        vertical-align: top;\n",
       "    }\n",
       "\n",
       "    .dataframe thead th {\n",
       "        text-align: right;\n",
       "    }\n",
       "</style>\n",
       "<table border=\"1\" class=\"dataframe\">\n",
       "  <thead>\n",
       "    <tr style=\"text-align: right;\">\n",
       "      <th></th>\n",
       "      <th>danceability</th>\n",
       "      <th>energy</th>\n",
       "      <th>loudness</th>\n",
       "      <th>speechiness</th>\n",
       "      <th>acousticness</th>\n",
       "      <th>instrumentalness</th>\n",
       "      <th>liveness</th>\n",
       "      <th>valence</th>\n",
       "      <th>tempo</th>\n",
       "    </tr>\n",
       "  </thead>\n",
       "  <tbody>\n",
       "    <tr>\n",
       "      <th>0</th>\n",
       "      <td>0.071794</td>\n",
       "      <td>-1.287845</td>\n",
       "      <td>-0.822383</td>\n",
       "      <td>-0.590588</td>\n",
       "      <td>1.042597</td>\n",
       "      <td>-0.537269</td>\n",
       "      <td>-0.160595</td>\n",
       "      <td>-1.472534</td>\n",
       "      <td>-0.606523</td>\n",
       "    </tr>\n",
       "    <tr>\n",
       "      <th>1</th>\n",
       "      <td>-0.585107</td>\n",
       "      <td>-0.807723</td>\n",
       "      <td>-0.286833</td>\n",
       "      <td>-0.402922</td>\n",
       "      <td>0.111873</td>\n",
       "      <td>-0.541225</td>\n",
       "      <td>-0.224703</td>\n",
       "      <td>1.062640</td>\n",
       "      <td>0.742713</td>\n",
       "    </tr>\n",
       "    <tr>\n",
       "      <th>2</th>\n",
       "      <td>-0.057432</td>\n",
       "      <td>-0.960320</td>\n",
       "      <td>-0.181675</td>\n",
       "      <td>-0.570834</td>\n",
       "      <td>1.636984</td>\n",
       "      <td>-0.539830</td>\n",
       "      <td>-0.468314</td>\n",
       "      <td>-0.682295</td>\n",
       "      <td>1.400397</td>\n",
       "    </tr>\n",
       "    <tr>\n",
       "      <th>3</th>\n",
       "      <td>-0.488187</td>\n",
       "      <td>0.197183</td>\n",
       "      <td>0.553838</td>\n",
       "      <td>-0.626805</td>\n",
       "      <td>-0.534704</td>\n",
       "      <td>-0.541225</td>\n",
       "      <td>-0.192649</td>\n",
       "      <td>0.085940</td>\n",
       "      <td>-1.338099</td>\n",
       "    </tr>\n",
       "    <tr>\n",
       "      <th>4</th>\n",
       "      <td>0.384091</td>\n",
       "      <td>-0.335045</td>\n",
       "      <td>-0.084208</td>\n",
       "      <td>-0.609245</td>\n",
       "      <td>0.242349</td>\n",
       "      <td>-0.537566</td>\n",
       "      <td>-0.654227</td>\n",
       "      <td>-0.601225</td>\n",
       "      <td>0.254677</td>\n",
       "    </tr>\n",
       "  </tbody>\n",
       "</table>\n",
       "</div>"
      ],
      "text/plain": [
       "   danceability    energy  loudness  speechiness  acousticness  \\\n",
       "0      0.071794 -1.287845 -0.822383    -0.590588      1.042597   \n",
       "1     -0.585107 -0.807723 -0.286833    -0.402922      0.111873   \n",
       "2     -0.057432 -0.960320 -0.181675    -0.570834      1.636984   \n",
       "3     -0.488187  0.197183  0.553838    -0.626805     -0.534704   \n",
       "4      0.384091 -0.335045 -0.084208    -0.609245      0.242349   \n",
       "\n",
       "   instrumentalness  liveness   valence     tempo  \n",
       "0         -0.537269 -0.160595 -1.472534 -0.606523  \n",
       "1         -0.541225 -0.224703  1.062640  0.742713  \n",
       "2         -0.539830 -0.468314 -0.682295  1.400397  \n",
       "3         -0.541225 -0.192649  0.085940 -1.338099  \n",
       "4         -0.537566 -0.654227 -0.601225  0.254677  "
      ]
     },
     "metadata": {},
     "output_type": "display_data"
    }
   ],
   "source": [
    "scaler = StandardScaler()\n",
    "scaler.fit(df)\n",
    "df_scaled = scaler.transform(df)\n",
    "df_scaled_df = pd.DataFrame(df_scaled, columns = df.columns)\n",
    "display(df.head())\n",
    "print()\n",
    "display(df_scaled_df.head())"
   ]
  },
  {
   "cell_type": "markdown",
   "id": "60d5535b",
   "metadata": {},
   "source": [
    "## Chosing K"
   ]
  },
  {
   "cell_type": "markdown",
   "id": "0f81a7e8",
   "metadata": {},
   "source": [
    "### elbow method"
   ]
  },
  {
   "cell_type": "code",
   "execution_count": 25,
   "id": "f92e44b5",
   "metadata": {},
   "outputs": [
    {
     "name": "stdout",
     "output_type": "stream",
     "text": [
      "Training a K-Means model with 2 clusters! \n",
      "\n",
      "Training a K-Means model with 3 clusters! \n",
      "\n",
      "Training a K-Means model with 4 clusters! \n",
      "\n",
      "Training a K-Means model with 5 clusters! \n",
      "\n",
      "Training a K-Means model with 6 clusters! \n",
      "\n",
      "Training a K-Means model with 7 clusters! \n",
      "\n",
      "Training a K-Means model with 8 clusters! \n",
      "\n",
      "Training a K-Means model with 9 clusters! \n",
      "\n",
      "Training a K-Means model with 10 clusters! \n",
      "\n",
      "Training a K-Means model with 11 clusters! \n",
      "\n",
      "Training a K-Means model with 12 clusters! \n",
      "\n",
      "Training a K-Means model with 13 clusters! \n",
      "\n",
      "Training a K-Means model with 14 clusters! \n",
      "\n",
      "Training a K-Means model with 15 clusters! \n",
      "\n",
      "Training a K-Means model with 16 clusters! \n",
      "\n",
      "Training a K-Means model with 17 clusters! \n",
      "\n",
      "Training a K-Means model with 18 clusters! \n",
      "\n",
      "Training a K-Means model with 19 clusters! \n",
      "\n",
      "Training a K-Means model with 20 clusters! \n",
      "\n"
     ]
    },
    {
     "data": {
      "text/plain": [
       "Text(0.5, 1.0, 'Elbow Method showing the optimal k')"
      ]
     },
     "execution_count": 25,
     "metadata": {},
     "output_type": "execute_result"
    },
    {
     "data": {
      "image/png": "[encoded data removed]",
      "text/plain": [
       "<Figure size 1600x800 with 1 Axes>"
      ]
     },
     "metadata": {},
     "output_type": "display_data"
    }
   ],
   "source": [
    "K = range(2, 21)\n",
    "inertia = []\n",
    "\n",
    "for k in K:\n",
    "    print(\"Training a K-Means model with {} clusters! \".format(k))\n",
    "    print()\n",
    "    kmeans = KMeans(n_clusters=k,\n",
    "                    random_state=1234)\n",
    "    kmeans.fit(df_scaled_df)\n",
    "    inertia.append(kmeans.inertia_)\n",
    "\n",
    "import numpy as np\n",
    "import matplotlib.pyplot as plt\n",
    "%matplotlib inline\n",
    "\n",
    "plt.figure(figsize=(16,8))\n",
    "plt.plot(K, inertia, 'bx-')\n",
    "plt.xlabel('k')\n",
    "plt.ylabel('inertia')\n",
    "plt.xticks(np.arange(min(K), max(K)+1, 1.0))\n",
    "plt.title('Elbow Method showing the optimal k')"
   ]
  },
  {
   "cell_type": "markdown",
   "id": "401c00f1",
   "metadata": {},
   "source": [
    "## Silouhette"
   ]
  },
  {
   "cell_type": "code",
   "execution_count": 10,
   "id": "80265b32",
   "metadata": {},
   "outputs": [
    {
     "ename": "MemoryError",
     "evalue": "Unable to allocate 1.00 GiB for an array with shape (1829, 73363) and data type float64",
     "output_type": "error",
     "traceback": [
      "\u001b[1;31m---------------------------------------------------------------------------\u001b[0m",
      "\u001b[1;31mMemoryError\u001b[0m                               Traceback (most recent call last)",
      "Cell \u001b[1;32mIn[10], line 13\u001b[0m\n\u001b[0;32m     10\u001b[0m     \u001b[38;5;28;01mwith\u001b[39;00m \u001b[38;5;28mopen\u001b[39m(filename, \u001b[38;5;124m\"\u001b[39m\u001b[38;5;124mwb\u001b[39m\u001b[38;5;124m\"\u001b[39m) \u001b[38;5;28;01mas\u001b[39;00m f:\n\u001b[0;32m     11\u001b[0m         pickle\u001b[38;5;241m.\u001b[39mdump(kmeans,f)\n\u001b[1;32m---> 13\u001b[0m     silhouette\u001b[38;5;241m.\u001b[39mappend(\u001b[43msilhouette_score\u001b[49m\u001b[43m(\u001b[49m\u001b[43mdf_scaled_df\u001b[49m\u001b[43m,\u001b[49m\u001b[43m \u001b[49m\u001b[43mkmeans\u001b[49m\u001b[38;5;241;43m.\u001b[39;49m\u001b[43mpredict\u001b[49m\u001b[43m(\u001b[49m\u001b[43mdf_scaled_df\u001b[49m\u001b[43m)\u001b[49m\u001b[43m)\u001b[49m)\n\u001b[0;32m     16\u001b[0m plt\u001b[38;5;241m.\u001b[39mfigure(figsize\u001b[38;5;241m=\u001b[39m(\u001b[38;5;241m16\u001b[39m,\u001b[38;5;241m8\u001b[39m))\n\u001b[0;32m     17\u001b[0m plt\u001b[38;5;241m.\u001b[39mplot(K, silhouette, \u001b[38;5;124m'\u001b[39m\u001b[38;5;124mbx-\u001b[39m\u001b[38;5;124m'\u001b[39m)\n",
      "File \u001b[1;32m~\\anaconda3\\envs\\da\\lib\\site-packages\\sklearn\\metrics\\cluster\\_unsupervised.py:117\u001b[0m, in \u001b[0;36msilhouette_score\u001b[1;34m(X, labels, metric, sample_size, random_state, **kwds)\u001b[0m\n\u001b[0;32m    115\u001b[0m     \u001b[38;5;28;01melse\u001b[39;00m:\n\u001b[0;32m    116\u001b[0m         X, labels \u001b[38;5;241m=\u001b[39m X[indices], labels[indices]\n\u001b[1;32m--> 117\u001b[0m \u001b[38;5;28;01mreturn\u001b[39;00m np\u001b[38;5;241m.\u001b[39mmean(silhouette_samples(X, labels, metric\u001b[38;5;241m=\u001b[39mmetric, \u001b[38;5;241m*\u001b[39m\u001b[38;5;241m*\u001b[39mkwds))\n",
      "File \u001b[1;32m~\\anaconda3\\envs\\da\\lib\\site-packages\\sklearn\\metrics\\cluster\\_unsupervised.py:237\u001b[0m, in \u001b[0;36msilhouette_samples\u001b[1;34m(X, labels, metric, **kwds)\u001b[0m\n\u001b[0;32m    233\u001b[0m kwds[\u001b[38;5;124m\"\u001b[39m\u001b[38;5;124mmetric\u001b[39m\u001b[38;5;124m\"\u001b[39m] \u001b[38;5;241m=\u001b[39m metric\n\u001b[0;32m    234\u001b[0m reduce_func \u001b[38;5;241m=\u001b[39m functools\u001b[38;5;241m.\u001b[39mpartial(\n\u001b[0;32m    235\u001b[0m     _silhouette_reduce, labels\u001b[38;5;241m=\u001b[39mlabels, label_freqs\u001b[38;5;241m=\u001b[39mlabel_freqs\n\u001b[0;32m    236\u001b[0m )\n\u001b[1;32m--> 237\u001b[0m results \u001b[38;5;241m=\u001b[39m \u001b[38;5;28;43mzip\u001b[39;49m\u001b[43m(\u001b[49m\u001b[38;5;241;43m*\u001b[39;49m\u001b[43mpairwise_distances_chunked\u001b[49m\u001b[43m(\u001b[49m\u001b[43mX\u001b[49m\u001b[43m,\u001b[49m\u001b[43m \u001b[49m\u001b[43mreduce_func\u001b[49m\u001b[38;5;241;43m=\u001b[39;49m\u001b[43mreduce_func\u001b[49m\u001b[43m,\u001b[49m\u001b[43m \u001b[49m\u001b[38;5;241;43m*\u001b[39;49m\u001b[38;5;241;43m*\u001b[39;49m\u001b[43mkwds\u001b[49m\u001b[43m)\u001b[49m\u001b[43m)\u001b[49m\n\u001b[0;32m    238\u001b[0m intra_clust_dists, inter_clust_dists \u001b[38;5;241m=\u001b[39m results\n\u001b[0;32m    239\u001b[0m intra_clust_dists \u001b[38;5;241m=\u001b[39m np\u001b[38;5;241m.\u001b[39mconcatenate(intra_clust_dists)\n",
      "File \u001b[1;32m~\\anaconda3\\envs\\da\\lib\\site-packages\\sklearn\\metrics\\pairwise.py:1817\u001b[0m, in \u001b[0;36mpairwise_distances_chunked\u001b[1;34m(X, Y, reduce_func, metric, n_jobs, working_memory, **kwds)\u001b[0m\n\u001b[0;32m   1815\u001b[0m \u001b[38;5;28;01melse\u001b[39;00m:\n\u001b[0;32m   1816\u001b[0m     X_chunk \u001b[38;5;241m=\u001b[39m X[sl]\n\u001b[1;32m-> 1817\u001b[0m D_chunk \u001b[38;5;241m=\u001b[39m pairwise_distances(X_chunk, Y, metric\u001b[38;5;241m=\u001b[39mmetric, n_jobs\u001b[38;5;241m=\u001b[39mn_jobs, \u001b[38;5;241m*\u001b[39m\u001b[38;5;241m*\u001b[39mkwds)\n\u001b[0;32m   1818\u001b[0m \u001b[38;5;28;01mif\u001b[39;00m (X \u001b[38;5;129;01mis\u001b[39;00m Y \u001b[38;5;129;01mor\u001b[39;00m Y \u001b[38;5;129;01mis\u001b[39;00m \u001b[38;5;28;01mNone\u001b[39;00m) \u001b[38;5;129;01mand\u001b[39;00m PAIRWISE_DISTANCE_FUNCTIONS\u001b[38;5;241m.\u001b[39mget(\n\u001b[0;32m   1819\u001b[0m     metric, \u001b[38;5;28;01mNone\u001b[39;00m\n\u001b[0;32m   1820\u001b[0m ) \u001b[38;5;129;01mis\u001b[39;00m euclidean_distances:\n\u001b[0;32m   1821\u001b[0m     \u001b[38;5;66;03m# zeroing diagonal, taking care of aliases of \"euclidean\",\u001b[39;00m\n\u001b[0;32m   1822\u001b[0m     \u001b[38;5;66;03m# i.e. \"l2\"\u001b[39;00m\n\u001b[0;32m   1823\u001b[0m     D_chunk\u001b[38;5;241m.\u001b[39mflat[sl\u001b[38;5;241m.\u001b[39mstart :: _num_samples(X) \u001b[38;5;241m+\u001b[39m \u001b[38;5;241m1\u001b[39m] \u001b[38;5;241m=\u001b[39m \u001b[38;5;241m0\u001b[39m\n",
      "File \u001b[1;32m~\\anaconda3\\envs\\da\\lib\\site-packages\\sklearn\\metrics\\pairwise.py:1989\u001b[0m, in \u001b[0;36mpairwise_distances\u001b[1;34m(X, Y, metric, n_jobs, force_all_finite, **kwds)\u001b[0m\n\u001b[0;32m   1986\u001b[0m         \u001b[38;5;28;01mreturn\u001b[39;00m distance\u001b[38;5;241m.\u001b[39msquareform(distance\u001b[38;5;241m.\u001b[39mpdist(X, metric\u001b[38;5;241m=\u001b[39mmetric, \u001b[38;5;241m*\u001b[39m\u001b[38;5;241m*\u001b[39mkwds))\n\u001b[0;32m   1987\u001b[0m     func \u001b[38;5;241m=\u001b[39m partial(distance\u001b[38;5;241m.\u001b[39mcdist, metric\u001b[38;5;241m=\u001b[39mmetric, \u001b[38;5;241m*\u001b[39m\u001b[38;5;241m*\u001b[39mkwds)\n\u001b[1;32m-> 1989\u001b[0m \u001b[38;5;28;01mreturn\u001b[39;00m _parallel_pairwise(X, Y, func, n_jobs, \u001b[38;5;241m*\u001b[39m\u001b[38;5;241m*\u001b[39mkwds)\n",
      "File \u001b[1;32m~\\anaconda3\\envs\\da\\lib\\site-packages\\sklearn\\metrics\\pairwise.py:1530\u001b[0m, in \u001b[0;36m_parallel_pairwise\u001b[1;34m(X, Y, func, n_jobs, **kwds)\u001b[0m\n\u001b[0;32m   1527\u001b[0m X, Y, dtype \u001b[38;5;241m=\u001b[39m _return_float_dtype(X, Y)\n\u001b[0;32m   1529\u001b[0m \u001b[38;5;28;01mif\u001b[39;00m effective_n_jobs(n_jobs) \u001b[38;5;241m==\u001b[39m \u001b[38;5;241m1\u001b[39m:\n\u001b[1;32m-> 1530\u001b[0m     \u001b[38;5;28;01mreturn\u001b[39;00m func(X, Y, \u001b[38;5;241m*\u001b[39m\u001b[38;5;241m*\u001b[39mkwds)\n\u001b[0;32m   1532\u001b[0m \u001b[38;5;66;03m# enforce a threading backend to prevent data communication overhead\u001b[39;00m\n\u001b[0;32m   1533\u001b[0m fd \u001b[38;5;241m=\u001b[39m delayed(_dist_wrapper)\n",
      "File \u001b[1;32m~\\anaconda3\\envs\\da\\lib\\site-packages\\sklearn\\metrics\\pairwise.py:330\u001b[0m, in \u001b[0;36meuclidean_distances\u001b[1;34m(X, Y, Y_norm_squared, squared, X_norm_squared)\u001b[0m\n\u001b[0;32m    324\u001b[0m     \u001b[38;5;28;01mif\u001b[39;00m Y_norm_squared\u001b[38;5;241m.\u001b[39mshape \u001b[38;5;241m!=\u001b[39m (\u001b[38;5;241m1\u001b[39m, Y\u001b[38;5;241m.\u001b[39mshape[\u001b[38;5;241m0\u001b[39m]):\n\u001b[0;32m    325\u001b[0m         \u001b[38;5;28;01mraise\u001b[39;00m \u001b[38;5;167;01mValueError\u001b[39;00m(\n\u001b[0;32m    326\u001b[0m             \u001b[38;5;124mf\u001b[39m\u001b[38;5;124m\"\u001b[39m\u001b[38;5;124mIncompatible dimensions for Y of shape \u001b[39m\u001b[38;5;132;01m{\u001b[39;00mY\u001b[38;5;241m.\u001b[39mshape\u001b[38;5;132;01m}\u001b[39;00m\u001b[38;5;124m and \u001b[39m\u001b[38;5;124m\"\u001b[39m\n\u001b[0;32m    327\u001b[0m             \u001b[38;5;124mf\u001b[39m\u001b[38;5;124m\"\u001b[39m\u001b[38;5;124mY_norm_squared of shape \u001b[39m\u001b[38;5;132;01m{\u001b[39;00moriginal_shape\u001b[38;5;132;01m}\u001b[39;00m\u001b[38;5;124m.\u001b[39m\u001b[38;5;124m\"\u001b[39m\n\u001b[0;32m    328\u001b[0m         )\n\u001b[1;32m--> 330\u001b[0m \u001b[38;5;28;01mreturn\u001b[39;00m \u001b[43m_euclidean_distances\u001b[49m\u001b[43m(\u001b[49m\u001b[43mX\u001b[49m\u001b[43m,\u001b[49m\u001b[43m \u001b[49m\u001b[43mY\u001b[49m\u001b[43m,\u001b[49m\u001b[43m \u001b[49m\u001b[43mX_norm_squared\u001b[49m\u001b[43m,\u001b[49m\u001b[43m \u001b[49m\u001b[43mY_norm_squared\u001b[49m\u001b[43m,\u001b[49m\u001b[43m \u001b[49m\u001b[43msquared\u001b[49m\u001b[43m)\u001b[49m\n",
      "File \u001b[1;32m~\\anaconda3\\envs\\da\\lib\\site-packages\\sklearn\\metrics\\pairwise.py:371\u001b[0m, in \u001b[0;36m_euclidean_distances\u001b[1;34m(X, Y, X_norm_squared, Y_norm_squared, squared)\u001b[0m\n\u001b[0;32m    368\u001b[0m     distances \u001b[38;5;241m=\u001b[39m _euclidean_distances_upcast(X, XX, Y, YY)\n\u001b[0;32m    369\u001b[0m \u001b[38;5;28;01melse\u001b[39;00m:\n\u001b[0;32m    370\u001b[0m     \u001b[38;5;66;03m# if dtype is already float64, no need to chunk and upcast\u001b[39;00m\n\u001b[1;32m--> 371\u001b[0m     distances \u001b[38;5;241m=\u001b[39m \u001b[38;5;241m-\u001b[39m\u001b[38;5;241m2\u001b[39m \u001b[38;5;241m*\u001b[39m \u001b[43msafe_sparse_dot\u001b[49m\u001b[43m(\u001b[49m\u001b[43mX\u001b[49m\u001b[43m,\u001b[49m\u001b[43m \u001b[49m\u001b[43mY\u001b[49m\u001b[38;5;241;43m.\u001b[39;49m\u001b[43mT\u001b[49m\u001b[43m,\u001b[49m\u001b[43m \u001b[49m\u001b[43mdense_output\u001b[49m\u001b[38;5;241;43m=\u001b[39;49m\u001b[38;5;28;43;01mTrue\u001b[39;49;00m\u001b[43m)\u001b[49m\n\u001b[0;32m    372\u001b[0m     distances \u001b[38;5;241m+\u001b[39m\u001b[38;5;241m=\u001b[39m XX\n\u001b[0;32m    373\u001b[0m     distances \u001b[38;5;241m+\u001b[39m\u001b[38;5;241m=\u001b[39m YY\n",
      "File \u001b[1;32m~\\anaconda3\\envs\\da\\lib\\site-packages\\sklearn\\utils\\extmath.py:152\u001b[0m, in \u001b[0;36msafe_sparse_dot\u001b[1;34m(a, b, dense_output)\u001b[0m\n\u001b[0;32m    150\u001b[0m         ret \u001b[38;5;241m=\u001b[39m np\u001b[38;5;241m.\u001b[39mdot(a, b)\n\u001b[0;32m    151\u001b[0m \u001b[38;5;28;01melse\u001b[39;00m:\n\u001b[1;32m--> 152\u001b[0m     ret \u001b[38;5;241m=\u001b[39m \u001b[43ma\u001b[49m\u001b[43m \u001b[49m\u001b[38;5;241;43m@\u001b[39;49m\u001b[43m \u001b[49m\u001b[43mb\u001b[49m\n\u001b[0;32m    154\u001b[0m \u001b[38;5;28;01mif\u001b[39;00m (\n\u001b[0;32m    155\u001b[0m     sparse\u001b[38;5;241m.\u001b[39missparse(a)\n\u001b[0;32m    156\u001b[0m     \u001b[38;5;129;01mand\u001b[39;00m sparse\u001b[38;5;241m.\u001b[39missparse(b)\n\u001b[0;32m    157\u001b[0m     \u001b[38;5;129;01mand\u001b[39;00m dense_output\n\u001b[0;32m    158\u001b[0m     \u001b[38;5;129;01mand\u001b[39;00m \u001b[38;5;28mhasattr\u001b[39m(ret, \u001b[38;5;124m\"\u001b[39m\u001b[38;5;124mtoarray\u001b[39m\u001b[38;5;124m\"\u001b[39m)\n\u001b[0;32m    159\u001b[0m ):\n\u001b[0;32m    160\u001b[0m     \u001b[38;5;28;01mreturn\u001b[39;00m ret\u001b[38;5;241m.\u001b[39mtoarray()\n",
      "\u001b[1;31mMemoryError\u001b[0m: Unable to allocate 1.00 GiB for an array with shape (1829, 73363) and data type float64"
     ]
    }
   ],
   "source": [
    "K = range(2, 20)\n",
    "silhouette = []\n",
    "\n",
    "for k in K:\n",
    "    kmeans = KMeans(n_clusters=k,\n",
    "                    random_state=1234)\n",
    "    kmeans.fit(df_scaled_df)\n",
    "    \n",
    "    filename = \"kmeans_\" + str(k) + \".pickle\"\n",
    "    with open(filename, \"wb\") as f:\n",
    "        pickle.dump(kmeans,f)\n",
    "    \n",
    "    silhouette.append(silhouette_score(df_scaled_df, kmeans.predict(df_scaled_df)))\n",
    "\n",
    "\n",
    "plt.figure(figsize=(16,8))\n",
    "plt.plot(K, silhouette, 'bx-')\n",
    "plt.xlabel('k')\n",
    "plt.ylabel('silhouette score')\n",
    "plt.xticks(np.arange(min(K), max(K)+1, 1.0))\n",
    "plt.title('Silhouette Method showing the optimal k')"
   ]
  },
  {
   "cell_type": "code",
   "execution_count": 26,
   "id": "8eb2abf0",
   "metadata": {},
   "outputs": [
    {
     "ename": "MemoryError",
     "evalue": "Unable to allocate 1.00 GiB for an array with shape (1829, 73363) and data type float64",
     "output_type": "error",
     "traceback": [
      "\u001b[1;31m---------------------------------------------------------------------------\u001b[0m",
      "\u001b[1;31mMemoryError\u001b[0m                               Traceback (most recent call last)",
      "Cell \u001b[1;32mIn[26], line 5\u001b[0m\n\u001b[0;32m      3\u001b[0m model \u001b[38;5;241m=\u001b[39m KMeans(k, random_state\u001b[38;5;241m=\u001b[39m\u001b[38;5;241m42\u001b[39m)\n\u001b[0;32m      4\u001b[0m visualizer \u001b[38;5;241m=\u001b[39m SilhouetteVisualizer(model, colors\u001b[38;5;241m=\u001b[39m\u001b[38;5;124m'\u001b[39m\u001b[38;5;124myellowbrick\u001b[39m\u001b[38;5;124m'\u001b[39m)\n\u001b[1;32m----> 5\u001b[0m \u001b[43mvisualizer\u001b[49m\u001b[38;5;241;43m.\u001b[39;49m\u001b[43mfit\u001b[49m\u001b[43m(\u001b[49m\u001b[43mdf_scaled_df\u001b[49m\u001b[43m)\u001b[49m        \u001b[38;5;66;03m# Fit the data to the visualizer\u001b[39;00m\n\u001b[0;32m      6\u001b[0m visualizer\u001b[38;5;241m.\u001b[39mshow()        \u001b[38;5;66;03m# Finalize and render the figure\u001b[39;00m\n",
      "File \u001b[1;32m~\\anaconda3\\envs\\da\\lib\\site-packages\\yellowbrick\\cluster\\silhouette.py:146\u001b[0m, in \u001b[0;36mSilhouetteVisualizer.fit\u001b[1;34m(self, X, y, **kwargs)\u001b[0m\n\u001b[0;32m    144\u001b[0m \u001b[38;5;66;03m# Compute the scores of the cluster\u001b[39;00m\n\u001b[0;32m    145\u001b[0m labels \u001b[38;5;241m=\u001b[39m \u001b[38;5;28mself\u001b[39m\u001b[38;5;241m.\u001b[39mestimator\u001b[38;5;241m.\u001b[39mpredict(X)\n\u001b[1;32m--> 146\u001b[0m \u001b[38;5;28mself\u001b[39m\u001b[38;5;241m.\u001b[39msilhouette_score_ \u001b[38;5;241m=\u001b[39m \u001b[43msilhouette_score\u001b[49m\u001b[43m(\u001b[49m\u001b[43mX\u001b[49m\u001b[43m,\u001b[49m\u001b[43m \u001b[49m\u001b[43mlabels\u001b[49m\u001b[43m)\u001b[49m\n\u001b[0;32m    147\u001b[0m \u001b[38;5;28mself\u001b[39m\u001b[38;5;241m.\u001b[39msilhouette_samples_ \u001b[38;5;241m=\u001b[39m silhouette_samples(X, labels)\n\u001b[0;32m    149\u001b[0m \u001b[38;5;66;03m# Draw the silhouette figure\u001b[39;00m\n",
      "File \u001b[1;32m~\\anaconda3\\envs\\da\\lib\\site-packages\\sklearn\\metrics\\cluster\\_unsupervised.py:117\u001b[0m, in \u001b[0;36msilhouette_score\u001b[1;34m(X, labels, metric, sample_size, random_state, **kwds)\u001b[0m\n\u001b[0;32m    115\u001b[0m     \u001b[38;5;28;01melse\u001b[39;00m:\n\u001b[0;32m    116\u001b[0m         X, labels \u001b[38;5;241m=\u001b[39m X[indices], labels[indices]\n\u001b[1;32m--> 117\u001b[0m \u001b[38;5;28;01mreturn\u001b[39;00m np\u001b[38;5;241m.\u001b[39mmean(silhouette_samples(X, labels, metric\u001b[38;5;241m=\u001b[39mmetric, \u001b[38;5;241m*\u001b[39m\u001b[38;5;241m*\u001b[39mkwds))\n",
      "File \u001b[1;32m~\\anaconda3\\envs\\da\\lib\\site-packages\\sklearn\\metrics\\cluster\\_unsupervised.py:237\u001b[0m, in \u001b[0;36msilhouette_samples\u001b[1;34m(X, labels, metric, **kwds)\u001b[0m\n\u001b[0;32m    233\u001b[0m kwds[\u001b[38;5;124m\"\u001b[39m\u001b[38;5;124mmetric\u001b[39m\u001b[38;5;124m\"\u001b[39m] \u001b[38;5;241m=\u001b[39m metric\n\u001b[0;32m    234\u001b[0m reduce_func \u001b[38;5;241m=\u001b[39m functools\u001b[38;5;241m.\u001b[39mpartial(\n\u001b[0;32m    235\u001b[0m     _silhouette_reduce, labels\u001b[38;5;241m=\u001b[39mlabels, label_freqs\u001b[38;5;241m=\u001b[39mlabel_freqs\n\u001b[0;32m    236\u001b[0m )\n\u001b[1;32m--> 237\u001b[0m results \u001b[38;5;241m=\u001b[39m \u001b[38;5;28;43mzip\u001b[39;49m\u001b[43m(\u001b[49m\u001b[38;5;241;43m*\u001b[39;49m\u001b[43mpairwise_distances_chunked\u001b[49m\u001b[43m(\u001b[49m\u001b[43mX\u001b[49m\u001b[43m,\u001b[49m\u001b[43m \u001b[49m\u001b[43mreduce_func\u001b[49m\u001b[38;5;241;43m=\u001b[39;49m\u001b[43mreduce_func\u001b[49m\u001b[43m,\u001b[49m\u001b[43m \u001b[49m\u001b[38;5;241;43m*\u001b[39;49m\u001b[38;5;241;43m*\u001b[39;49m\u001b[43mkwds\u001b[49m\u001b[43m)\u001b[49m\u001b[43m)\u001b[49m\n\u001b[0;32m    238\u001b[0m intra_clust_dists, inter_clust_dists \u001b[38;5;241m=\u001b[39m results\n\u001b[0;32m    239\u001b[0m intra_clust_dists \u001b[38;5;241m=\u001b[39m np\u001b[38;5;241m.\u001b[39mconcatenate(intra_clust_dists)\n",
      "File \u001b[1;32m~\\anaconda3\\envs\\da\\lib\\site-packages\\sklearn\\metrics\\pairwise.py:1817\u001b[0m, in \u001b[0;36mpairwise_distances_chunked\u001b[1;34m(X, Y, reduce_func, metric, n_jobs, working_memory, **kwds)\u001b[0m\n\u001b[0;32m   1815\u001b[0m \u001b[38;5;28;01melse\u001b[39;00m:\n\u001b[0;32m   1816\u001b[0m     X_chunk \u001b[38;5;241m=\u001b[39m X[sl]\n\u001b[1;32m-> 1817\u001b[0m D_chunk \u001b[38;5;241m=\u001b[39m pairwise_distances(X_chunk, Y, metric\u001b[38;5;241m=\u001b[39mmetric, n_jobs\u001b[38;5;241m=\u001b[39mn_jobs, \u001b[38;5;241m*\u001b[39m\u001b[38;5;241m*\u001b[39mkwds)\n\u001b[0;32m   1818\u001b[0m \u001b[38;5;28;01mif\u001b[39;00m (X \u001b[38;5;129;01mis\u001b[39;00m Y \u001b[38;5;129;01mor\u001b[39;00m Y \u001b[38;5;129;01mis\u001b[39;00m \u001b[38;5;28;01mNone\u001b[39;00m) \u001b[38;5;129;01mand\u001b[39;00m PAIRWISE_DISTANCE_FUNCTIONS\u001b[38;5;241m.\u001b[39mget(\n\u001b[0;32m   1819\u001b[0m     metric, \u001b[38;5;28;01mNone\u001b[39;00m\n\u001b[0;32m   1820\u001b[0m ) \u001b[38;5;129;01mis\u001b[39;00m euclidean_distances:\n\u001b[0;32m   1821\u001b[0m     \u001b[38;5;66;03m# zeroing diagonal, taking care of aliases of \"euclidean\",\u001b[39;00m\n\u001b[0;32m   1822\u001b[0m     \u001b[38;5;66;03m# i.e. \"l2\"\u001b[39;00m\n\u001b[0;32m   1823\u001b[0m     D_chunk\u001b[38;5;241m.\u001b[39mflat[sl\u001b[38;5;241m.\u001b[39mstart :: _num_samples(X) \u001b[38;5;241m+\u001b[39m \u001b[38;5;241m1\u001b[39m] \u001b[38;5;241m=\u001b[39m \u001b[38;5;241m0\u001b[39m\n",
      "File \u001b[1;32m~\\anaconda3\\envs\\da\\lib\\site-packages\\sklearn\\metrics\\pairwise.py:1989\u001b[0m, in \u001b[0;36mpairwise_distances\u001b[1;34m(X, Y, metric, n_jobs, force_all_finite, **kwds)\u001b[0m\n\u001b[0;32m   1986\u001b[0m         \u001b[38;5;28;01mreturn\u001b[39;00m distance\u001b[38;5;241m.\u001b[39msquareform(distance\u001b[38;5;241m.\u001b[39mpdist(X, metric\u001b[38;5;241m=\u001b[39mmetric, \u001b[38;5;241m*\u001b[39m\u001b[38;5;241m*\u001b[39mkwds))\n\u001b[0;32m   1987\u001b[0m     func \u001b[38;5;241m=\u001b[39m partial(distance\u001b[38;5;241m.\u001b[39mcdist, metric\u001b[38;5;241m=\u001b[39mmetric, \u001b[38;5;241m*\u001b[39m\u001b[38;5;241m*\u001b[39mkwds)\n\u001b[1;32m-> 1989\u001b[0m \u001b[38;5;28;01mreturn\u001b[39;00m _parallel_pairwise(X, Y, func, n_jobs, \u001b[38;5;241m*\u001b[39m\u001b[38;5;241m*\u001b[39mkwds)\n",
      "File \u001b[1;32m~\\anaconda3\\envs\\da\\lib\\site-packages\\sklearn\\metrics\\pairwise.py:1530\u001b[0m, in \u001b[0;36m_parallel_pairwise\u001b[1;34m(X, Y, func, n_jobs, **kwds)\u001b[0m\n\u001b[0;32m   1527\u001b[0m X, Y, dtype \u001b[38;5;241m=\u001b[39m _return_float_dtype(X, Y)\n\u001b[0;32m   1529\u001b[0m \u001b[38;5;28;01mif\u001b[39;00m effective_n_jobs(n_jobs) \u001b[38;5;241m==\u001b[39m \u001b[38;5;241m1\u001b[39m:\n\u001b[1;32m-> 1530\u001b[0m     \u001b[38;5;28;01mreturn\u001b[39;00m func(X, Y, \u001b[38;5;241m*\u001b[39m\u001b[38;5;241m*\u001b[39mkwds)\n\u001b[0;32m   1532\u001b[0m \u001b[38;5;66;03m# enforce a threading backend to prevent data communication overhead\u001b[39;00m\n\u001b[0;32m   1533\u001b[0m fd \u001b[38;5;241m=\u001b[39m delayed(_dist_wrapper)\n",
      "File \u001b[1;32m~\\anaconda3\\envs\\da\\lib\\site-packages\\sklearn\\metrics\\pairwise.py:330\u001b[0m, in \u001b[0;36meuclidean_distances\u001b[1;34m(X, Y, Y_norm_squared, squared, X_norm_squared)\u001b[0m\n\u001b[0;32m    324\u001b[0m     \u001b[38;5;28;01mif\u001b[39;00m Y_norm_squared\u001b[38;5;241m.\u001b[39mshape \u001b[38;5;241m!=\u001b[39m (\u001b[38;5;241m1\u001b[39m, Y\u001b[38;5;241m.\u001b[39mshape[\u001b[38;5;241m0\u001b[39m]):\n\u001b[0;32m    325\u001b[0m         \u001b[38;5;28;01mraise\u001b[39;00m \u001b[38;5;167;01mValueError\u001b[39;00m(\n\u001b[0;32m    326\u001b[0m             \u001b[38;5;124mf\u001b[39m\u001b[38;5;124m\"\u001b[39m\u001b[38;5;124mIncompatible dimensions for Y of shape \u001b[39m\u001b[38;5;132;01m{\u001b[39;00mY\u001b[38;5;241m.\u001b[39mshape\u001b[38;5;132;01m}\u001b[39;00m\u001b[38;5;124m and \u001b[39m\u001b[38;5;124m\"\u001b[39m\n\u001b[0;32m    327\u001b[0m             \u001b[38;5;124mf\u001b[39m\u001b[38;5;124m\"\u001b[39m\u001b[38;5;124mY_norm_squared of shape \u001b[39m\u001b[38;5;132;01m{\u001b[39;00moriginal_shape\u001b[38;5;132;01m}\u001b[39;00m\u001b[38;5;124m.\u001b[39m\u001b[38;5;124m\"\u001b[39m\n\u001b[0;32m    328\u001b[0m         )\n\u001b[1;32m--> 330\u001b[0m \u001b[38;5;28;01mreturn\u001b[39;00m \u001b[43m_euclidean_distances\u001b[49m\u001b[43m(\u001b[49m\u001b[43mX\u001b[49m\u001b[43m,\u001b[49m\u001b[43m \u001b[49m\u001b[43mY\u001b[49m\u001b[43m,\u001b[49m\u001b[43m \u001b[49m\u001b[43mX_norm_squared\u001b[49m\u001b[43m,\u001b[49m\u001b[43m \u001b[49m\u001b[43mY_norm_squared\u001b[49m\u001b[43m,\u001b[49m\u001b[43m \u001b[49m\u001b[43msquared\u001b[49m\u001b[43m)\u001b[49m\n",
      "File \u001b[1;32m~\\anaconda3\\envs\\da\\lib\\site-packages\\sklearn\\metrics\\pairwise.py:371\u001b[0m, in \u001b[0;36m_euclidean_distances\u001b[1;34m(X, Y, X_norm_squared, Y_norm_squared, squared)\u001b[0m\n\u001b[0;32m    368\u001b[0m     distances \u001b[38;5;241m=\u001b[39m _euclidean_distances_upcast(X, XX, Y, YY)\n\u001b[0;32m    369\u001b[0m \u001b[38;5;28;01melse\u001b[39;00m:\n\u001b[0;32m    370\u001b[0m     \u001b[38;5;66;03m# if dtype is already float64, no need to chunk and upcast\u001b[39;00m\n\u001b[1;32m--> 371\u001b[0m     distances \u001b[38;5;241m=\u001b[39m \u001b[38;5;241;43m-\u001b[39;49m\u001b[38;5;241;43m2\u001b[39;49m\u001b[43m \u001b[49m\u001b[38;5;241;43m*\u001b[39;49m\u001b[43m \u001b[49m\u001b[43msafe_sparse_dot\u001b[49m\u001b[43m(\u001b[49m\u001b[43mX\u001b[49m\u001b[43m,\u001b[49m\u001b[43m \u001b[49m\u001b[43mY\u001b[49m\u001b[38;5;241;43m.\u001b[39;49m\u001b[43mT\u001b[49m\u001b[43m,\u001b[49m\u001b[43m \u001b[49m\u001b[43mdense_output\u001b[49m\u001b[38;5;241;43m=\u001b[39;49m\u001b[38;5;28;43;01mTrue\u001b[39;49;00m\u001b[43m)\u001b[49m\n\u001b[0;32m    372\u001b[0m     distances \u001b[38;5;241m+\u001b[39m\u001b[38;5;241m=\u001b[39m XX\n\u001b[0;32m    373\u001b[0m     distances \u001b[38;5;241m+\u001b[39m\u001b[38;5;241m=\u001b[39m YY\n",
      "\u001b[1;31mMemoryError\u001b[0m: Unable to allocate 1.00 GiB for an array with shape (1829, 73363) and data type float64"
     ]
    }
   ],
   "source": [
    "#another representaitron of silhouhette plot: \n",
    "from yellowbrick.cluster import SilhouetteVisualizer\n",
    "model = KMeans(k, random_state=42)\n",
    "visualizer = SilhouetteVisualizer(model, colors='yellowbrick')\n",
    "visualizer.fit(df_scaled_df)        # Fit the data to the visualizer\n",
    "visualizer.show()        # Finalize and render the figure"
   ]
  },
  {
   "cell_type": "markdown",
   "id": "67753de5",
   "metadata": {},
   "source": [
    "## Clustering the songs with K-Means"
   ]
  },
  {
   "cell_type": "code",
   "execution_count": 66,
   "id": "09f6925e",
   "metadata": {},
   "outputs": [
    {
     "data": {
      "text/html": [
       "<style>#sk-container-id-4 {color: black;background-color: white;}#sk-container-id-4 pre{padding: 0;}#sk-container-id-4 div.sk-toggleable {background-color: white;}#sk-container-id-4 label.sk-toggleable__label {cursor: pointer;display: block;width: 100%;margin-bottom: 0;padding: 0.3em;box-sizing: border-box;text-align: center;}#sk-container-id-4 label.sk-toggleable__label-arrow:before {content: \"▸\";float: left;margin-right: 0.25em;color: #696969;}#sk-container-id-4 label.sk-toggleable__label-arrow:hover:before {color: black;}#sk-container-id-4 div.sk-estimator:hover label.sk-toggleable__label-arrow:before {color: black;}#sk-container-id-4 div.sk-toggleable__content {max-height: 0;max-width: 0;overflow: hidden;text-align: left;background-color: #f0f8ff;}#sk-container-id-4 div.sk-toggleable__content pre {margin: 0.2em;color: black;border-radius: 0.25em;background-color: #f0f8ff;}#sk-container-id-4 input.sk-toggleable__control:checked~div.sk-toggleable__content {max-height: 200px;max-width: 100%;overflow: auto;}#sk-container-id-4 input.sk-toggleable__control:checked~label.sk-toggleable__label-arrow:before {content: \"▾\";}#sk-container-id-4 div.sk-estimator input.sk-toggleable__control:checked~label.sk-toggleable__label {background-color: #d4ebff;}#sk-container-id-4 div.sk-label input.sk-toggleable__control:checked~label.sk-toggleable__label {background-color: #d4ebff;}#sk-container-id-4 input.sk-hidden--visually {border: 0;clip: rect(1px 1px 1px 1px);clip: rect(1px, 1px, 1px, 1px);height: 1px;margin: -1px;overflow: hidden;padding: 0;position: absolute;width: 1px;}#sk-container-id-4 div.sk-estimator {font-family: monospace;background-color: #f0f8ff;border: 1px dotted black;border-radius: 0.25em;box-sizing: border-box;margin-bottom: 0.5em;}#sk-container-id-4 div.sk-estimator:hover {background-color: #d4ebff;}#sk-container-id-4 div.sk-parallel-item::after {content: \"\";width: 100%;border-bottom: 1px solid gray;flex-grow: 1;}#sk-container-id-4 div.sk-label:hover label.sk-toggleable__label {background-color: #d4ebff;}#sk-container-id-4 div.sk-serial::before {content: \"\";position: absolute;border-left: 1px solid gray;box-sizing: border-box;top: 0;bottom: 0;left: 50%;z-index: 0;}#sk-container-id-4 div.sk-serial {display: flex;flex-direction: column;align-items: center;background-color: white;padding-right: 0.2em;padding-left: 0.2em;position: relative;}#sk-container-id-4 div.sk-item {position: relative;z-index: 1;}#sk-container-id-4 div.sk-parallel {display: flex;align-items: stretch;justify-content: center;background-color: white;position: relative;}#sk-container-id-4 div.sk-item::before, #sk-container-id-4 div.sk-parallel-item::before {content: \"\";position: absolute;border-left: 1px solid gray;box-sizing: border-box;top: 0;bottom: 0;left: 50%;z-index: -1;}#sk-container-id-4 div.sk-parallel-item {display: flex;flex-direction: column;z-index: 1;position: relative;background-color: white;}#sk-container-id-4 div.sk-parallel-item:first-child::after {align-self: flex-end;width: 50%;}#sk-container-id-4 div.sk-parallel-item:last-child::after {align-self: flex-start;width: 50%;}#sk-container-id-4 div.sk-parallel-item:only-child::after {width: 0;}#sk-container-id-4 div.sk-dashed-wrapped {border: 1px dashed gray;margin: 0 0.4em 0.5em 0.4em;box-sizing: border-box;padding-bottom: 0.4em;background-color: white;}#sk-container-id-4 div.sk-label label {font-family: monospace;font-weight: bold;display: inline-block;line-height: 1.2em;}#sk-container-id-4 div.sk-label-container {text-align: center;}#sk-container-id-4 div.sk-container {/* jupyter's `normalize.less` sets `[hidden] { display: none; }` but bootstrap.min.css set `[hidden] { display: none !important; }` so we also need the `!important` here to be able to override the default hidden behavior on the sphinx rendered scikit-learn.org. See: https://github.com/scikit-learn/scikit-learn/issues/21755 */display: inline-block !important;position: relative;}#sk-container-id-4 div.sk-text-repr-fallback {display: none;}</style><div id=\"sk-container-id-4\" class=\"sk-top-container\"><div class=\"sk-text-repr-fallback\"><pre>KMeans(n_clusters=16, random_state=1234)</pre><b>In a Jupyter environment, please rerun this cell to show the HTML representation or trust the notebook. <br />On GitHub, the HTML representation is unable to render, please try loading this page with nbviewer.org.</b></div><div class=\"sk-container\" hidden><div class=\"sk-item\"><div class=\"sk-estimator sk-toggleable\"><input class=\"sk-toggleable__control sk-hidden--visually\" id=\"sk-estimator-id-4\" type=\"checkbox\" checked><label for=\"sk-estimator-id-4\" class=\"sk-toggleable__label sk-toggleable__label-arrow\">KMeans</label><div class=\"sk-toggleable__content\"><pre>KMeans(n_clusters=16, random_state=1234)</pre></div></div></div></div></div>"
      ],
      "text/plain": [
       "KMeans(n_clusters=16, random_state=1234)"
      ]
     },
     "execution_count": 66,
     "metadata": {},
     "output_type": "execute_result"
    }
   ],
   "source": [
    "kmeans = KMeans(n_clusters=16, random_state=1234)\n",
    "kmeans.fit(df_scaled_df)"
   ]
  },
  {
   "cell_type": "code",
   "execution_count": 83,
   "id": "b329a356",
   "metadata": {},
   "outputs": [
    {
     "data": {
      "text/plain": [
       "<seaborn.matrix.ClusterGrid at 0x1c4ddd26be0>"
      ]
     },
     "execution_count": 83,
     "metadata": {},
     "output_type": "execute_result"
    },
    {
     "data": {
      "image/png": "[encoded data removed]",
      "text/plain": [
       "<Figure size 600x600 with 4 Axes>"
      ]
     },
     "metadata": {},
     "output_type": "display_data"
    }
   ],
   "source": [
    "import seaborn as sns\n",
    "columns_no_id = [\"danceability\",\"energy\",\"loudness\",\"speechiness\",\"acousticness\",\n",
    "    \"instrumentalness\",\"liveness\",\"valence\",\"tempo\"]\n",
    "#sns.heatmap(pd.DataFrame(kmeans.cluster_centers_,columns = columns_no_id),cmap=\"Reds\")\n",
    "sns.clustermap(pd.DataFrame(kmeans.cluster_centers_,columns = columns_no_id), cmap='Reds', standard_scale=1, method='ward', figsize=(6, 6))"
   ]
  },
  {
   "cell_type": "code",
   "execution_count": 84,
   "id": "afd030d1",
   "metadata": {},
   "outputs": [
    {
     "data": {
      "image/png": "[encoded data removed]",
      "text/plain": [
       "<Figure size 800x550 with 1 Axes>"
      ]
     },
     "metadata": {},
     "output_type": "display_data"
    }
   ],
   "source": [
    "# assign a cluster to each example\n",
    "labels = kmeans.predict(df_scaled_df) #same as kmeans.labels_\n",
    "# retrieve unique clusters\n",
    "clusters = np.unique(labels)\n",
    "# create scatter plot for samples from each cluster\n",
    "for cluster in clusters:\n",
    "    # get row indexes for samples with this cluster\n",
    "    row_ix = np.where(labels == cluster)\n",
    "    # create scatter of these samples\n",
    "    pyplot.scatter(df.to_numpy()[row_ix, 1], df.to_numpy()[row_ix, 3]) #1 and 3 define the index of colums axes to be used for the visualization. But know that all the columns are ploted\n",
    "    # show the plot\n",
    "pyplot.show()"
   ]
  },
  {
   "cell_type": "markdown",
   "id": "eb1f0d27",
   "metadata": {},
   "source": [
    "Now we have our \"model\", let's get the clusters and how many observations has each cluster."
   ]
  },
  {
   "cell_type": "code",
   "execution_count": 85,
   "id": "72c1743c",
   "metadata": {},
   "outputs": [
    {
     "data": {
      "text/plain": [
       "0     6706\n",
       "1     6036\n",
       "2     4490\n",
       "3     5454\n",
       "4     5022\n",
       "5     4318\n",
       "6     4192\n",
       "7     5099\n",
       "8     9464\n",
       "9      196\n",
       "10    4488\n",
       "11    5509\n",
       "12     738\n",
       "13    3986\n",
       "14    2597\n",
       "15    5068\n",
       "dtype: int64"
      ]
     },
     "execution_count": 85,
     "metadata": {},
     "output_type": "execute_result"
    }
   ],
   "source": [
    "clusters = kmeans.predict(df_scaled_df)\n",
    "pd.Series(clusters).value_counts().sort_index()"
   ]
  },
  {
   "cell_type": "markdown",
   "id": "dc8e89d5",
   "metadata": {},
   "source": [
    "Now let's see to which group was assigned every song"
   ]
  },
  {
   "cell_type": "code",
   "execution_count": 86,
   "id": "daf696e6",
   "metadata": {},
   "outputs": [
    {
     "data": {
      "text/html": [
       "<div>\n",
       "<style scoped>\n",
       "    .dataframe tbody tr th:only-of-type {\n",
       "        vertical-align: middle;\n",
       "    }\n",
       "\n",
       "    .dataframe tbody tr th {\n",
       "        vertical-align: top;\n",
       "    }\n",
       "\n",
       "    .dataframe thead th {\n",
       "        text-align: right;\n",
       "    }\n",
       "</style>\n",
       "<table border=\"1\" class=\"dataframe\">\n",
       "  <thead>\n",
       "    <tr style=\"text-align: right;\">\n",
       "      <th></th>\n",
       "      <th>danceability</th>\n",
       "      <th>energy</th>\n",
       "      <th>loudness</th>\n",
       "      <th>speechiness</th>\n",
       "      <th>acousticness</th>\n",
       "      <th>instrumentalness</th>\n",
       "      <th>liveness</th>\n",
       "      <th>valence</th>\n",
       "      <th>tempo</th>\n",
       "      <th>cluster</th>\n",
       "    </tr>\n",
       "    <tr>\n",
       "      <th>id</th>\n",
       "      <th></th>\n",
       "      <th></th>\n",
       "      <th></th>\n",
       "      <th></th>\n",
       "      <th></th>\n",
       "      <th></th>\n",
       "      <th></th>\n",
       "      <th></th>\n",
       "      <th></th>\n",
       "      <th></th>\n",
       "    </tr>\n",
       "  </thead>\n",
       "  <tbody>\n",
       "    <tr>\n",
       "      <th>5CQHTuNbYlEA4fZdxQ4PMi</th>\n",
       "      <td>0.585</td>\n",
       "      <td>0.239</td>\n",
       "      <td>-15.167</td>\n",
       "      <td>0.0309</td>\n",
       "      <td>0.697000</td>\n",
       "      <td>0.001330</td>\n",
       "      <td>0.159</td>\n",
       "      <td>0.0933</td>\n",
       "      <td>101.182</td>\n",
       "      <td>10</td>\n",
       "    </tr>\n",
       "    <tr>\n",
       "      <th>3LHg768dEKqJKht2uPTlVR</th>\n",
       "      <td>0.463</td>\n",
       "      <td>0.368</td>\n",
       "      <td>-11.546</td>\n",
       "      <td>0.0480</td>\n",
       "      <td>0.376000</td>\n",
       "      <td>0.000000</td>\n",
       "      <td>0.149</td>\n",
       "      <td>0.7500</td>\n",
       "      <td>141.974</td>\n",
       "      <td>6</td>\n",
       "    </tr>\n",
       "    <tr>\n",
       "      <th>3bHhUEOTIbezeZ856R0BX5</th>\n",
       "      <td>0.561</td>\n",
       "      <td>0.327</td>\n",
       "      <td>-10.835</td>\n",
       "      <td>0.0327</td>\n",
       "      <td>0.902000</td>\n",
       "      <td>0.000469</td>\n",
       "      <td>0.111</td>\n",
       "      <td>0.2980</td>\n",
       "      <td>161.858</td>\n",
       "      <td>6</td>\n",
       "    </tr>\n",
       "    <tr>\n",
       "      <th>2hKdd3qO7cWr2Jo0Bcs0MA</th>\n",
       "      <td>0.481</td>\n",
       "      <td>0.638</td>\n",
       "      <td>-5.862</td>\n",
       "      <td>0.0276</td>\n",
       "      <td>0.153000</td>\n",
       "      <td>0.000000</td>\n",
       "      <td>0.154</td>\n",
       "      <td>0.4970</td>\n",
       "      <td>79.064</td>\n",
       "      <td>1</td>\n",
       "    </tr>\n",
       "    <tr>\n",
       "      <th>615auKcis6sGDrHk6UTeog</th>\n",
       "      <td>0.643</td>\n",
       "      <td>0.495</td>\n",
       "      <td>-10.176</td>\n",
       "      <td>0.0292</td>\n",
       "      <td>0.421000</td>\n",
       "      <td>0.001230</td>\n",
       "      <td>0.082</td>\n",
       "      <td>0.3190</td>\n",
       "      <td>127.219</td>\n",
       "      <td>0</td>\n",
       "    </tr>\n",
       "    <tr>\n",
       "      <th>...</th>\n",
       "      <td>...</td>\n",
       "      <td>...</td>\n",
       "      <td>...</td>\n",
       "      <td>...</td>\n",
       "      <td>...</td>\n",
       "      <td>...</td>\n",
       "      <td>...</td>\n",
       "      <td>...</td>\n",
       "      <td>...</td>\n",
       "      <td>...</td>\n",
       "    </tr>\n",
       "    <tr>\n",
       "      <th>0uctKVLlfFjhYRnJaDaYXM</th>\n",
       "      <td>0.436</td>\n",
       "      <td>0.915</td>\n",
       "      <td>-3.929</td>\n",
       "      <td>0.0562</td>\n",
       "      <td>0.000086</td>\n",
       "      <td>0.000005</td>\n",
       "      <td>0.348</td>\n",
       "      <td>0.4210</td>\n",
       "      <td>162.049</td>\n",
       "      <td>15</td>\n",
       "    </tr>\n",
       "    <tr>\n",
       "      <th>4O7PMEWkbHDS1TJhH0ZBqi</th>\n",
       "      <td>0.490</td>\n",
       "      <td>0.905</td>\n",
       "      <td>-3.829</td>\n",
       "      <td>0.0598</td>\n",
       "      <td>0.000016</td>\n",
       "      <td>0.000757</td>\n",
       "      <td>0.341</td>\n",
       "      <td>0.5590</td>\n",
       "      <td>90.974</td>\n",
       "      <td>7</td>\n",
       "    </tr>\n",
       "    <tr>\n",
       "      <th>6JKwPN8ThWw1ofH8BFMzXV</th>\n",
       "      <td>0.579</td>\n",
       "      <td>0.949</td>\n",
       "      <td>-1.971</td>\n",
       "      <td>0.0611</td>\n",
       "      <td>0.000037</td>\n",
       "      <td>0.000053</td>\n",
       "      <td>0.101</td>\n",
       "      <td>0.6390</td>\n",
       "      <td>125.126</td>\n",
       "      <td>8</td>\n",
       "    </tr>\n",
       "    <tr>\n",
       "      <th>7APhTR6bZZYB6HxAPCZGPG</th>\n",
       "      <td>0.325</td>\n",
       "      <td>0.956</td>\n",
       "      <td>-3.275</td>\n",
       "      <td>0.1470</td>\n",
       "      <td>0.000050</td>\n",
       "      <td>0.018700</td>\n",
       "      <td>0.334</td>\n",
       "      <td>0.4290</td>\n",
       "      <td>185.922</td>\n",
       "      <td>15</td>\n",
       "    </tr>\n",
       "    <tr>\n",
       "      <th>5JbUneuz1epUk9j3xBjuy6</th>\n",
       "      <td>0.381</td>\n",
       "      <td>0.921</td>\n",
       "      <td>-2.753</td>\n",
       "      <td>0.1880</td>\n",
       "      <td>0.000849</td>\n",
       "      <td>0.001320</td>\n",
       "      <td>0.293</td>\n",
       "      <td>0.6720</td>\n",
       "      <td>76.410</td>\n",
       "      <td>1</td>\n",
       "    </tr>\n",
       "  </tbody>\n",
       "</table>\n",
       "<p>73363 rows × 10 columns</p>\n",
       "</div>"
      ],
      "text/plain": [
       "                        danceability  energy  loudness  speechiness  \\\n",
       "id                                                                    \n",
       "5CQHTuNbYlEA4fZdxQ4PMi         0.585   0.239   -15.167       0.0309   \n",
       "3LHg768dEKqJKht2uPTlVR         0.463   0.368   -11.546       0.0480   \n",
       "3bHhUEOTIbezeZ856R0BX5         0.561   0.327   -10.835       0.0327   \n",
       "2hKdd3qO7cWr2Jo0Bcs0MA         0.481   0.638    -5.862       0.0276   \n",
       "615auKcis6sGDrHk6UTeog         0.643   0.495   -10.176       0.0292   \n",
       "...                              ...     ...       ...          ...   \n",
       "0uctKVLlfFjhYRnJaDaYXM         0.436   0.915    -3.929       0.0562   \n",
       "4O7PMEWkbHDS1TJhH0ZBqi         0.490   0.905    -3.829       0.0598   \n",
       "6JKwPN8ThWw1ofH8BFMzXV         0.579   0.949    -1.971       0.0611   \n",
       "7APhTR6bZZYB6HxAPCZGPG         0.325   0.956    -3.275       0.1470   \n",
       "5JbUneuz1epUk9j3xBjuy6         0.381   0.921    -2.753       0.1880   \n",
       "\n",
       "                        acousticness  instrumentalness  liveness  valence  \\\n",
       "id                                                                          \n",
       "5CQHTuNbYlEA4fZdxQ4PMi      0.697000          0.001330     0.159   0.0933   \n",
       "3LHg768dEKqJKht2uPTlVR      0.376000          0.000000     0.149   0.7500   \n",
       "3bHhUEOTIbezeZ856R0BX5      0.902000          0.000469     0.111   0.2980   \n",
       "2hKdd3qO7cWr2Jo0Bcs0MA      0.153000          0.000000     0.154   0.4970   \n",
       "615auKcis6sGDrHk6UTeog      0.421000          0.001230     0.082   0.3190   \n",
       "...                              ...               ...       ...      ...   \n",
       "0uctKVLlfFjhYRnJaDaYXM      0.000086          0.000005     0.348   0.4210   \n",
       "4O7PMEWkbHDS1TJhH0ZBqi      0.000016          0.000757     0.341   0.5590   \n",
       "6JKwPN8ThWw1ofH8BFMzXV      0.000037          0.000053     0.101   0.6390   \n",
       "7APhTR6bZZYB6HxAPCZGPG      0.000050          0.018700     0.334   0.4290   \n",
       "5JbUneuz1epUk9j3xBjuy6      0.000849          0.001320     0.293   0.6720   \n",
       "\n",
       "                          tempo  cluster  \n",
       "id                                        \n",
       "5CQHTuNbYlEA4fZdxQ4PMi  101.182       10  \n",
       "3LHg768dEKqJKht2uPTlVR  141.974        6  \n",
       "3bHhUEOTIbezeZ856R0BX5  161.858        6  \n",
       "2hKdd3qO7cWr2Jo0Bcs0MA   79.064        1  \n",
       "615auKcis6sGDrHk6UTeog  127.219        0  \n",
       "...                         ...      ...  \n",
       "0uctKVLlfFjhYRnJaDaYXM  162.049       15  \n",
       "4O7PMEWkbHDS1TJhH0ZBqi   90.974        7  \n",
       "6JKwPN8ThWw1ofH8BFMzXV  125.126        8  \n",
       "7APhTR6bZZYB6HxAPCZGPG  185.922       15  \n",
       "5JbUneuz1epUk9j3xBjuy6   76.410        1  \n",
       "\n",
       "[73363 rows x 10 columns]"
      ]
     },
     "execution_count": 86,
     "metadata": {},
     "output_type": "execute_result"
    }
   ],
   "source": [
    "df[\"cluster\"] = clusters\n",
    "df"
   ]
  },
  {
   "cell_type": "markdown",
   "id": "654bca23",
   "metadata": {},
   "source": [
    "# Saving with pickle"
   ]
  },
  {
   "cell_type": "code",
   "execution_count": 87,
   "id": "05deac9b",
   "metadata": {},
   "outputs": [],
   "source": [
    "import pickle\n",
    "\n",
    "#scaler = StandardScaler()\n",
    "#model = KMeans()\n",
    "\n",
    "with open(\"song_recom_scaler.pickle\", \"wb\") as f: \n",
    "    pickle.dump(scaler,f) \n",
    "\n",
    "with open(\"song_recom_kmeans.pickle\", \"wb\") as f:\n",
    "    pickle.dump(kmeans,f)"
   ]
  },
  {
   "cell_type": "code",
   "execution_count": 88,
   "id": "158467da",
   "metadata": {},
   "outputs": [],
   "source": [
    "def load(filename = \"filename.pickle\"): \n",
    "    try: \n",
    "        with open(filename, \"rb\") as f: #rb in this cas is reading permission\n",
    "            return pickle.load(f) \n",
    "        \n",
    "    except FileNotFoundError: # if we don't add this error it will give an error and the running will stop\n",
    "        print(\"File not found!\") \n"
   ]
  },
  {
   "cell_type": "markdown",
   "id": "7a96b038",
   "metadata": {},
   "source": [
    "..."
   ]
  },
  {
   "cell_type": "markdown",
   "id": "a3fa6e47",
   "metadata": {},
   "source": [
    "..."
   ]
  },
  {
   "cell_type": "markdown",
   "id": "2d41df0f",
   "metadata": {},
   "source": [
    "# Recommend a song based on customer favorite song"
   ]
  },
  {
   "cell_type": "markdown",
   "id": "0aec120e",
   "metadata": {},
   "source": [
    "## Input the song and get credendials from spotify"
   ]
  },
  {
   "cell_type": "code",
   "execution_count": 189,
   "id": "045fc6d4",
   "metadata": {},
   "outputs": [
    {
     "name": "stdout",
     "output_type": "stream",
     "text": [
      "what is your favorite song:oops i did it again\n"
     ]
    }
   ],
   "source": [
    "song = input('what is your favorite song:')"
   ]
  },
  {
   "cell_type": "code",
   "execution_count": 190,
   "id": "085376a4",
   "metadata": {},
   "outputs": [],
   "source": [
    "results = sp.search(q=song,limit=1,market=\"US\") #top 3 limits and market great britan\n",
    "results\n",
    "track_id = results[\"tracks\"][\"items\"][0][\"id\"]"
   ]
  },
  {
   "cell_type": "markdown",
   "id": "cff6345c",
   "metadata": {},
   "source": [
    "## Scaling and applying the model on new song"
   ]
  },
  {
   "cell_type": "code",
   "execution_count": 191,
   "id": "8ef3e479",
   "metadata": {},
   "outputs": [],
   "source": [
    "columns = [\"danceability\",\"energy\",\"loudness\",\"speechiness\",\"acousticness\",\n",
    "    \"instrumentalness\",\"liveness\",\"valence\",\"tempo\",\"id\"]"
   ]
  },
  {
   "cell_type": "code",
   "execution_count": 192,
   "id": "4c629a3a",
   "metadata": {
    "scrolled": true
   },
   "outputs": [],
   "source": [
    "#getting the audio features of the song\n",
    "track_features = sp.audio_features(track_id)\n",
    "df_track_features = pd.DataFrame(track_features)\n",
    "df_track_features=df_track_features[columns]\n",
    "\n",
    "df_track_features.set_index('id', inplace=True)\n",
    "input_id = df_track_features.index[0]"
   ]
  },
  {
   "cell_type": "code",
   "execution_count": 193,
   "id": "6d8e59c2",
   "metadata": {},
   "outputs": [
    {
     "data": {
      "text/html": [
       "\n",
       "        <iframe\n",
       "            width=\"320\"\n",
       "            height=\"80\"\n",
       "            src=\"https://open.spotify.com/embed/track/6naxalmIoLFWR0siv8dnQQ?frameborder=0&allowtransparency=true&allow=encrypted-media\"\n",
       "            frameborder=\"0\"\n",
       "            allowfullscreen\n",
       "            \n",
       "        ></iframe>\n",
       "        "
      ],
      "text/plain": [
       "<IPython.lib.display.IFrame at 0x1c4de475400>"
      ]
     },
     "execution_count": 193,
     "metadata": {},
     "output_type": "execute_result"
    }
   ],
   "source": [
    "from IPython.display import IFrame\n",
    "def play_input_song(input_id):\n",
    "    return IFrame(src=\"https://open.spotify.com/embed/track/\"+input_id,\n",
    "       width=\"320\",\n",
    "       height=\"80\",\n",
    "       frameborder=\"0\",\n",
    "       allowtransparency=\"true\",\n",
    "       allow=\"encrypted-media\",\n",
    "      )\n",
    "play_song(input_id)"
   ]
  },
  {
   "cell_type": "code",
   "execution_count": 194,
   "id": "df6b61bd",
   "metadata": {},
   "outputs": [
    {
     "data": {
      "text/plain": [
       "'6naxalmIoLFWR0siv8dnQQ'"
      ]
     },
     "execution_count": 194,
     "metadata": {},
     "output_type": "execute_result"
    }
   ],
   "source": [
    "input_id"
   ]
  },
  {
   "cell_type": "code",
   "execution_count": 195,
   "id": "238cb9da",
   "metadata": {},
   "outputs": [],
   "source": [
    "audio_features_selected = [\"danceability\",\"energy\",\"loudness\",\"speechiness\",\"acousticness\",\n",
    "    \"instrumentalness\",\"liveness\",\"valence\",\"tempo\"]"
   ]
  },
  {
   "cell_type": "code",
   "execution_count": 196,
   "id": "0f50d028",
   "metadata": {},
   "outputs": [
    {
     "data": {
      "text/html": [
       "<div>\n",
       "<style scoped>\n",
       "    .dataframe tbody tr th:only-of-type {\n",
       "        vertical-align: middle;\n",
       "    }\n",
       "\n",
       "    .dataframe tbody tr th {\n",
       "        vertical-align: top;\n",
       "    }\n",
       "\n",
       "    .dataframe thead th {\n",
       "        text-align: right;\n",
       "    }\n",
       "</style>\n",
       "<table border=\"1\" class=\"dataframe\">\n",
       "  <thead>\n",
       "    <tr style=\"text-align: right;\">\n",
       "      <th></th>\n",
       "      <th>danceability</th>\n",
       "      <th>energy</th>\n",
       "      <th>loudness</th>\n",
       "      <th>speechiness</th>\n",
       "      <th>acousticness</th>\n",
       "      <th>instrumentalness</th>\n",
       "      <th>liveness</th>\n",
       "      <th>valence</th>\n",
       "      <th>tempo</th>\n",
       "    </tr>\n",
       "  </thead>\n",
       "  <tbody>\n",
       "    <tr>\n",
       "      <th>0</th>\n",
       "      <td>0.965611</td>\n",
       "      <td>0.92667</td>\n",
       "      <td>0.615661</td>\n",
       "      <td>-0.450113</td>\n",
       "      <td>-0.108485</td>\n",
       "      <td>-0.541172</td>\n",
       "      <td>1.095924</td>\n",
       "      <td>1.618548</td>\n",
       "      <td>-0.809246</td>\n",
       "    </tr>\n",
       "  </tbody>\n",
       "</table>\n",
       "</div>"
      ],
      "text/plain": [
       "   danceability   energy  loudness  speechiness  acousticness  \\\n",
       "0      0.965611  0.92667  0.615661    -0.450113     -0.108485   \n",
       "\n",
       "   instrumentalness  liveness   valence     tempo  \n",
       "0         -0.541172  1.095924  1.618548 -0.809246  "
      ]
     },
     "metadata": {},
     "output_type": "display_data"
    }
   ],
   "source": [
    "saved_scaler = load(\"song_recom_scaler.pickle\")\n",
    "scaled_user_input_song = saved_scaler.transform(df_track_features)\n",
    "df_scaled_user_input_song = pd.DataFrame(scaled_user_input_song, columns=audio_features_selected)\n",
    "display(df_scaled_user_input_song.head())"
   ]
  },
  {
   "cell_type": "code",
   "execution_count": 197,
   "id": "65515ca1",
   "metadata": {},
   "outputs": [
    {
     "data": {
      "text/plain": [
       "array([7])"
      ]
     },
     "execution_count": 197,
     "metadata": {},
     "output_type": "execute_result"
    }
   ],
   "source": [
    "saved_mode = load(\"song_recom_kmeans.pickle\")\n",
    "closest_cluster_label = saved_mode.predict(df_scaled_user_input_song)\n",
    "closest_cluster_label"
   ]
  },
  {
   "cell_type": "code",
   "execution_count": 198,
   "id": "4855f263",
   "metadata": {},
   "outputs": [],
   "source": [
    "cluster_indices = np.where(labels == closest_cluster_label)[0]"
   ]
  },
  {
   "cell_type": "code",
   "execution_count": 199,
   "id": "89faa91a",
   "metadata": {},
   "outputs": [],
   "source": [
    "cluster_df = df[df[\"cluster\"] == int(closest_cluster_label)]\n",
    "\n",
    "# Select a random song from the cluster\n",
    "random_song = cluster_df.sample(n=1)\n",
    "random_song.reset_index(inplace = True)\n",
    "output_id = random_song.id[0]"
   ]
  },
  {
   "cell_type": "code",
   "execution_count": 200,
   "id": "e85bcd9e",
   "metadata": {},
   "outputs": [
    {
     "data": {
      "text/plain": [
       "'1hkm127hnTSa2xjGNw8IAE'"
      ]
     },
     "execution_count": 200,
     "metadata": {},
     "output_type": "execute_result"
    }
   ],
   "source": [
    "output_id"
   ]
  },
  {
   "cell_type": "markdown",
   "id": "93767ed9",
   "metadata": {},
   "source": [
    "def recommend_song(track_id,saved_scaler,saved_mode,audio_features_selected,df):\n",
    "    ## get the audio features of the userSong\n",
    "    track_features=sp.audio_features(track_id)[0]\n",
    "    ## only filter the features that has been used for clustering\n",
    "    userInputSong=np.array(list(dict((k, userInputSong[k]) for k in audio_features_selected).values())).reshape(1,-1)\n",
    "\n",
    "    ##scaling the new song\n",
    "    scaled_user_input_song =saved_scaler.transform(userInputSong)\n",
    "    \n",
    "    ## find the closest cluster to the userSong\n",
    "    closest_cluster_label=saved_mode.predict(scaled_user_input_song)[0]\n",
    "    \n",
    "    ## return the track id from a random song within the closest cluster\n",
    "    cluster_indices = np.where(labels == closest_cluster_label)[0]\n",
    "    cluster_df = df[df[\"cluster\"] == int(closest_cluster_label)]\n",
    "    random_song = cluster_df.sample(n=1)\n",
    "    random_song.reset_index(inplace = True)\n",
    "    random_song.id[0]"
   ]
  },
  {
   "cell_type": "code",
   "execution_count": 201,
   "id": "d2d7f0e4",
   "metadata": {},
   "outputs": [
    {
     "data": {
      "text/html": [
       "\n",
       "        <iframe\n",
       "            width=\"320\"\n",
       "            height=\"80\"\n",
       "            src=\"https://open.spotify.com/embed/track/1hkm127hnTSa2xjGNw8IAE?frameborder=0&allowtransparency=true&allow=encrypted-media\"\n",
       "            frameborder=\"0\"\n",
       "            allowfullscreen\n",
       "            \n",
       "        ></iframe>\n",
       "        "
      ],
      "text/plain": [
       "<IPython.lib.display.IFrame at 0x1c4de47dcd0>"
      ]
     },
     "execution_count": 201,
     "metadata": {},
     "output_type": "execute_result"
    }
   ],
   "source": [
    "from IPython.display import IFrame\n",
    "def play_output_song(output_id):\n",
    "    return IFrame(src=\"https://open.spotify.com/embed/track/\"+output_id,\n",
    "       width=\"320\",\n",
    "       height=\"80\",\n",
    "       frameborder=\"0\",\n",
    "       allowtransparency=\"true\",\n",
    "       allow=\"encrypted-media\",\n",
    "      )\n",
    "play_output_song(output_id)"
   ]
  },
  {
   "cell_type": "markdown",
   "id": "0e565e99",
   "metadata": {},
   "source": [
    "## Output the name of the song the artist and the album"
   ]
  },
  {
   "cell_type": "code",
   "execution_count": null,
   "id": "5dfbf704",
   "metadata": {},
   "outputs": [],
   "source": [
    "#results[\"tracks\"][\"items\"][0][\"artists\"] # Track artists\n",
    "#results[\"tracks\"][\"items\"][0][\"id\"] # Track ID\n",
    "#results[\"tracks\"][\"items\"][0][\"name\"] # Track name\n",
    "#results[\"tracks\"][\"items\"][0][\"popularity\"] # Popularity index"
   ]
  }
 ],
 "metadata": {
  "kernelspec": {
   "display_name": "RN_DA",
   "language": "python",
   "name": "da"
  },
  "language_info": {
   "codemirror_mode": {
    "name": "ipython",
    "version": 3
   },
   "file_extension": ".py",
   "mimetype": "text/x-python",
   "name": "python",
   "nbconvert_exporter": "python",
   "pygments_lexer": "ipython3",
   "version": "3.9.16"
  }
 },
 "nbformat": 4,
 "nbformat_minor": 5
}
